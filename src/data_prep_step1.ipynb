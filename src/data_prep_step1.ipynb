{
 "cells": [
  {
   "cell_type": "markdown",
   "id": "b813fe8c-11e1-4b2d-b09c-21d1790a5b65",
   "metadata": {
    "id": "b813fe8c-11e1-4b2d-b09c-21d1790a5b65"
   },
   "source": [
    "\"\"\"\n",
    "fine_tune_gpt2_lora.py\n",
    "\n",
    "Fine-tune GPT-2 Small on Enron email–reply pairs with LoRA adapters,\n",
    "using either full-thread or subject+last-email prompts and tone conditioning.\n",
    "\"\"\"\n",
    "need to test the pipeline from local to GitHub"
   ]
  },
  {
   "cell_type": "code",
   "execution_count": null,
   "id": "a9edabb5-5d3d-4253-8dd1-484b26c6e743",
   "metadata": {
    "id": "a9edabb5-5d3d-4253-8dd1-484b26c6e743",
    "outputId": "93d520e7-7e1b-4440-851b-4c632fd4ce2e"
   },
   "outputs": [
    {
     "name": "stdout",
     "output_type": "stream",
     "text": [
      "Defaulting to user installation because normal site-packages is not writeable\n",
      "\u001b[33mWARNING: Ignoring invalid distribution ~ensorflow (/courses/IE7500.202530/shared/conda_env_1/lib/python3.12/site-packages)\u001b[0m\u001b[33m\n",
      "\u001b[0mRequirement already satisfied: transformers in /courses/IE7500.202530/shared/conda_env_1/lib/python3.12/site-packages (4.47.1)\n",
      "Requirement already satisfied: datasets in /courses/IE7500.202530/shared/conda_env_1/lib/python3.12/site-packages (3.2.0)\n",
      "Collecting peft\n",
      "  Downloading peft-0.16.0-py3-none-any.whl.metadata (14 kB)\n",
      "Collecting accelerate\n",
      "  Downloading accelerate-1.9.0-py3-none-any.whl.metadata (19 kB)\n",
      "Requirement already satisfied: filelock in /courses/IE7500.202530/shared/conda_env_1/lib/python3.12/site-packages (from transformers) (3.16.1)\n",
      "Requirement already satisfied: huggingface-hub<1.0,>=0.24.0 in /courses/IE7500.202530/shared/conda_env_1/lib/python3.12/site-packages (from transformers) (0.27.0)\n",
      "Requirement already satisfied: numpy>=1.17 in /courses/IE7500.202530/shared/conda_env_1/lib/python3.12/site-packages (from transformers) (1.26.4)\n",
      "Requirement already satisfied: packaging>=20.0 in /courses/IE7500.202530/shared/conda_env_1/lib/python3.12/site-packages (from transformers) (24.2)\n",
      "Requirement already satisfied: pyyaml>=5.1 in /courses/IE7500.202530/shared/conda_env_1/lib/python3.12/site-packages (from transformers) (6.0.2)\n",
      "Requirement already satisfied: regex!=2019.12.17 in /courses/IE7500.202530/shared/conda_env_1/lib/python3.12/site-packages (from transformers) (2024.11.6)\n",
      "Requirement already satisfied: requests in /courses/IE7500.202530/shared/conda_env_1/lib/python3.12/site-packages (from transformers) (2.32.3)\n",
      "Requirement already satisfied: tokenizers<0.22,>=0.21 in /courses/IE7500.202530/shared/conda_env_1/lib/python3.12/site-packages (from transformers) (0.21.0)\n",
      "Requirement already satisfied: safetensors>=0.4.1 in /courses/IE7500.202530/shared/conda_env_1/lib/python3.12/site-packages (from transformers) (0.4.5)\n",
      "Requirement already satisfied: tqdm>=4.27 in /courses/IE7500.202530/shared/conda_env_1/lib/python3.12/site-packages (from transformers) (4.67.1)\n",
      "Requirement already satisfied: pyarrow>=15.0.0 in /courses/IE7500.202530/shared/conda_env_1/lib/python3.12/site-packages (from datasets) (18.1.0)\n",
      "Requirement already satisfied: dill<0.3.9,>=0.3.0 in /courses/IE7500.202530/shared/conda_env_1/lib/python3.12/site-packages (from datasets) (0.3.8)\n",
      "Requirement already satisfied: pandas in /courses/IE7500.202530/shared/conda_env_1/lib/python3.12/site-packages (from datasets) (2.2.3)\n",
      "Requirement already satisfied: xxhash in /courses/IE7500.202530/shared/conda_env_1/lib/python3.12/site-packages (from datasets) (3.5.0)\n",
      "Requirement already satisfied: multiprocess<0.70.17 in /courses/IE7500.202530/shared/conda_env_1/lib/python3.12/site-packages (from datasets) (0.70.16)\n",
      "Requirement already satisfied: fsspec<=2024.9.0,>=2023.1.0 in /courses/IE7500.202530/shared/conda_env_1/lib/python3.12/site-packages (from fsspec[http]<=2024.9.0,>=2023.1.0->datasets) (2024.9.0)\n",
      "Requirement already satisfied: aiohttp in /courses/IE7500.202530/shared/conda_env_1/lib/python3.12/site-packages (from datasets) (3.11.11)\n",
      "Requirement already satisfied: psutil in /courses/IE7500.202530/shared/conda_env_1/lib/python3.12/site-packages (from peft) (6.1.1)\n",
      "Requirement already satisfied: torch>=1.13.0 in /courses/IE7500.202530/shared/conda_env_1/lib/python3.12/site-packages (from peft) (2.4.0+cu121)\n",
      "Requirement already satisfied: aiohappyeyeballs>=2.3.0 in /courses/IE7500.202530/shared/conda_env_1/lib/python3.12/site-packages (from aiohttp->datasets) (2.4.4)\n",
      "Requirement already satisfied: aiosignal>=1.1.2 in /courses/IE7500.202530/shared/conda_env_1/lib/python3.12/site-packages (from aiohttp->datasets) (1.3.2)\n",
      "Requirement already satisfied: attrs>=17.3.0 in /courses/IE7500.202530/shared/conda_env_1/lib/python3.12/site-packages (from aiohttp->datasets) (24.3.0)\n",
      "Requirement already satisfied: frozenlist>=1.1.1 in /courses/IE7500.202530/shared/conda_env_1/lib/python3.12/site-packages (from aiohttp->datasets) (1.5.0)\n",
      "Requirement already satisfied: multidict<7.0,>=4.5 in /courses/IE7500.202530/shared/conda_env_1/lib/python3.12/site-packages (from aiohttp->datasets) (6.1.0)\n",
      "Requirement already satisfied: propcache>=0.2.0 in /courses/IE7500.202530/shared/conda_env_1/lib/python3.12/site-packages (from aiohttp->datasets) (0.2.1)\n",
      "Requirement already satisfied: yarl<2.0,>=1.17.0 in /courses/IE7500.202530/shared/conda_env_1/lib/python3.12/site-packages (from aiohttp->datasets) (1.18.3)\n",
      "Requirement already satisfied: typing-extensions>=3.7.4.3 in /courses/IE7500.202530/shared/conda_env_1/lib/python3.12/site-packages (from huggingface-hub<1.0,>=0.24.0->transformers) (4.12.2)\n",
      "Requirement already satisfied: charset-normalizer<4,>=2 in /courses/IE7500.202530/shared/conda_env_1/lib/python3.12/site-packages (from requests->transformers) (3.4.0)\n",
      "Requirement already satisfied: idna<4,>=2.5 in /courses/IE7500.202530/shared/conda_env_1/lib/python3.12/site-packages (from requests->transformers) (3.10)\n",
      "Requirement already satisfied: urllib3<3,>=1.21.1 in /courses/IE7500.202530/shared/conda_env_1/lib/python3.12/site-packages (from requests->transformers) (2.2.3)\n",
      "Requirement already satisfied: certifi>=2017.4.17 in /courses/IE7500.202530/shared/conda_env_1/lib/python3.12/site-packages (from requests->transformers) (2024.12.14)\n",
      "Requirement already satisfied: sympy in /courses/IE7500.202530/shared/conda_env_1/lib/python3.12/site-packages (from torch>=1.13.0->peft) (1.13.1)\n",
      "Requirement already satisfied: networkx in /courses/IE7500.202530/shared/conda_env_1/lib/python3.12/site-packages (from torch>=1.13.0->peft) (3.4.2)\n",
      "Requirement already satisfied: jinja2 in /courses/IE7500.202530/shared/conda_env_1/lib/python3.12/site-packages (from torch>=1.13.0->peft) (3.1.4)\n",
      "Requirement already satisfied: setuptools in /courses/IE7500.202530/shared/conda_env_1/lib/python3.12/site-packages (from torch>=1.13.0->peft) (75.6.0)\n",
      "Collecting nvidia-cuda-nvrtc-cu12==12.1.105 (from torch>=1.13.0->peft)\n",
      "  Downloading nvidia_cuda_nvrtc_cu12-12.1.105-py3-none-manylinux1_x86_64.whl.metadata (1.5 kB)\n",
      "Collecting nvidia-cuda-runtime-cu12==12.1.105 (from torch>=1.13.0->peft)\n",
      "  Downloading nvidia_cuda_runtime_cu12-12.1.105-py3-none-manylinux1_x86_64.whl.metadata (1.5 kB)\n",
      "Collecting nvidia-cuda-cupti-cu12==12.1.105 (from torch>=1.13.0->peft)\n",
      "  Downloading nvidia_cuda_cupti_cu12-12.1.105-py3-none-manylinux1_x86_64.whl.metadata (1.6 kB)\n",
      "Collecting nvidia-cudnn-cu12==9.1.0.70 (from torch>=1.13.0->peft)\n",
      "  Downloading nvidia_cudnn_cu12-9.1.0.70-py3-none-manylinux2014_x86_64.whl.metadata (1.6 kB)\n",
      "Collecting nvidia-cublas-cu12==12.1.3.1 (from torch>=1.13.0->peft)\n",
      "  Downloading nvidia_cublas_cu12-12.1.3.1-py3-none-manylinux1_x86_64.whl.metadata (1.5 kB)\n",
      "Collecting nvidia-cufft-cu12==11.0.2.54 (from torch>=1.13.0->peft)\n",
      "  Downloading nvidia_cufft_cu12-11.0.2.54-py3-none-manylinux1_x86_64.whl.metadata (1.5 kB)\n",
      "Collecting nvidia-curand-cu12==10.3.2.106 (from torch>=1.13.0->peft)\n",
      "  Downloading nvidia_curand_cu12-10.3.2.106-py3-none-manylinux1_x86_64.whl.metadata (1.5 kB)\n",
      "Collecting nvidia-cusolver-cu12==11.4.5.107 (from torch>=1.13.0->peft)\n",
      "  Downloading nvidia_cusolver_cu12-11.4.5.107-py3-none-manylinux1_x86_64.whl.metadata (1.6 kB)\n",
      "Collecting nvidia-cusparse-cu12==12.1.0.106 (from torch>=1.13.0->peft)\n",
      "  Downloading nvidia_cusparse_cu12-12.1.0.106-py3-none-manylinux1_x86_64.whl.metadata (1.6 kB)\n",
      "Collecting nvidia-nccl-cu12==2.20.5 (from torch>=1.13.0->peft)\n",
      "  Downloading nvidia_nccl_cu12-2.20.5-py3-none-manylinux2014_x86_64.whl.metadata (1.8 kB)\n",
      "Collecting nvidia-nvtx-cu12==12.1.105 (from torch>=1.13.0->peft)\n",
      "  Downloading nvidia_nvtx_cu12-12.1.105-py3-none-manylinux1_x86_64.whl.metadata (1.7 kB)\n",
      "Requirement already satisfied: triton==3.0.0 in /courses/IE7500.202530/shared/conda_env_1/lib/python3.12/site-packages (from torch>=1.13.0->peft) (3.0.0)\n",
      "Requirement already satisfied: nvidia-nvjitlink-cu12 in /courses/IE7500.202530/shared/conda_env_1/lib/python3.12/site-packages (from nvidia-cusolver-cu12==11.4.5.107->torch>=1.13.0->peft) (12.5.82)\n",
      "Requirement already satisfied: python-dateutil>=2.8.2 in /courses/IE7500.202530/shared/conda_env_1/lib/python3.12/site-packages (from pandas->datasets) (2.9.0.post0)\n",
      "Requirement already satisfied: pytz>=2020.1 in /courses/IE7500.202530/shared/conda_env_1/lib/python3.12/site-packages (from pandas->datasets) (2024.2)\n",
      "Requirement already satisfied: tzdata>=2022.7 in /courses/IE7500.202530/shared/conda_env_1/lib/python3.12/site-packages (from pandas->datasets) (2024.2)\n",
      "Requirement already satisfied: six>=1.5 in /courses/IE7500.202530/shared/conda_env_1/lib/python3.12/site-packages (from python-dateutil>=2.8.2->pandas->datasets) (1.17.0)\n",
      "Requirement already satisfied: MarkupSafe>=2.0 in /courses/IE7500.202530/shared/conda_env_1/lib/python3.12/site-packages (from jinja2->torch>=1.13.0->peft) (3.0.2)\n",
      "Requirement already satisfied: mpmath<1.4,>=1.1.0 in /courses/IE7500.202530/shared/conda_env_1/lib/python3.12/site-packages (from sympy->torch>=1.13.0->peft) (1.3.0)\n",
      "Downloading peft-0.16.0-py3-none-any.whl (472 kB)\n",
      "Downloading accelerate-1.9.0-py3-none-any.whl (367 kB)\n",
      "Downloading nvidia_cublas_cu12-12.1.3.1-py3-none-manylinux1_x86_64.whl (410.6 MB)\n",
      "\u001b[2K   \u001b[90m━━━━━━━━━━━━━━━━━━━━━━━━━━━━━━━━━━━━━━━\u001b[0m \u001b[32m410.6/410.6 MB\u001b[0m \u001b[31m122.2 MB/s\u001b[0m eta \u001b[36m0:00:00\u001b[0m00:01\u001b[0m00:01\u001b[0m\n",
      "\u001b[?25hDownloading nvidia_cuda_cupti_cu12-12.1.105-py3-none-manylinux1_x86_64.whl (14.1 MB)\n",
      "\u001b[2K   \u001b[90m━━━━━━━━━━━━━━━━━━━━━━━━━━━━━━━━━━━━━━━━\u001b[0m \u001b[32m14.1/14.1 MB\u001b[0m \u001b[31m114.0 MB/s\u001b[0m eta \u001b[36m0:00:00\u001b[0m\n",
      "\u001b[?25hDownloading nvidia_cuda_nvrtc_cu12-12.1.105-py3-none-manylinux1_x86_64.whl (23.7 MB)\n",
      "\u001b[2K   \u001b[90m━━━━━━━━━━━━━━━━━━━━━━━━━━━━━━━━━━━━━━━━\u001b[0m \u001b[32m23.7/23.7 MB\u001b[0m \u001b[31m127.0 MB/s\u001b[0m eta \u001b[36m0:00:00\u001b[0m\n",
      "\u001b[?25hDownloading nvidia_cuda_runtime_cu12-12.1.105-py3-none-manylinux1_x86_64.whl (823 kB)\n",
      "\u001b[2K   \u001b[90m━━━━━━━━━━━━━━━━━━━━━━━━━━━━━━━━━━━━━━━━\u001b[0m \u001b[32m823.6/823.6 kB\u001b[0m \u001b[31m18.9 MB/s\u001b[0m eta \u001b[36m0:00:00\u001b[0m\n",
      "Downloading nvidia_cudnn_cu12-9.1.0.70-py3-none-manylinux2014_x86_64.whl (664.8 MB)\n",
      "\u001b[2K   \u001b[90m━━━━━━━━━━━━━━━━━━━━━━━━━━━━━━━━━━━━━━━\u001b[0m \u001b[32m664.8/664.8 MB\u001b[0m \u001b[31m105.6 MB/s\u001b[0m eta \u001b[36m0:00:00\u001b[0m00:01\u001b[0m00:01\u001b[0m\n",
      "Downloading nvidia_cufft_cu12-11.0.2.54-py3-none-manylinux1_x86_64.whl (121.6 MB)\n",
      "\u001b[2K   \u001b[90m━━━━━━━━━━━━━━━━━━━━━━━━━━━━━━━━━━━━━━━\u001b[0m \u001b[32m121.6/121.6 MB\u001b[0m \u001b[31m137.2 MB/s\u001b[0m eta \u001b[36m0:00:00\u001b[0m00:01\u001b[0m00:01\u001b[0m\n",
      "Downloading nvidia_curand_cu12-10.3.2.106-py3-none-manylinux1_x86_64.whl (56.5 MB)\n",
      "\u001b[2K   \u001b[90m━━━━━━━━━━━━━━━━━━━━━━━━━━━━━━━━━━━━━━━━\u001b[0m \u001b[32m56.5/56.5 MB\u001b[0m \u001b[31m133.5 MB/s\u001b[0m eta \u001b[36m0:00:00\u001b[0m00:01\u001b[0m00:01\u001b[0m\n",
      "\u001b[?25hDownloading nvidia_cusolver_cu12-11.4.5.107-py3-none-manylinux1_x86_64.whl (124.2 MB)\n",
      "\u001b[2K   \u001b[90m━━━━━━━━━━━━━━━━━━━━━━━━━━━━━━━━━━━━━━━\u001b[0m \u001b[32m124.2/124.2 MB\u001b[0m \u001b[31m133.6 MB/s\u001b[0m eta \u001b[36m0:00:00\u001b[0m00:01\u001b[0m00:01\u001b[0m\n",
      "\u001b[?25hDownloading nvidia_cusparse_cu12-12.1.0.106-py3-none-manylinux1_x86_64.whl (196.0 MB)\n",
      "\u001b[2K   \u001b[90m━━━━━━━━━━━━━━━━━━━━━━━━━━━━━━━━━━━━━━━\u001b[0m \u001b[32m196.0/196.0 MB\u001b[0m \u001b[31m140.2 MB/s\u001b[0m eta \u001b[36m0:00:00\u001b[0m00:01\u001b[0m00:01\u001b[0m\n",
      "Downloading nvidia_nccl_cu12-2.20.5-py3-none-manylinux2014_x86_64.whl (176.2 MB)\n",
      "\u001b[2K   \u001b[90m━━━━━━━━━━━━━━━━━━━━━━━━━━━━━━━━━━━━━━━\u001b[0m \u001b[32m176.2/176.2 MB\u001b[0m \u001b[31m136.9 MB/s\u001b[0m eta \u001b[36m0:00:00\u001b[0m00:01\u001b[0m00:01\u001b[0m\n",
      "Downloading nvidia_nvtx_cu12-12.1.105-py3-none-manylinux1_x86_64.whl (99 kB)\n",
      "\u001b[33mWARNING: Ignoring invalid distribution ~ensorflow (/courses/IE7500.202530/shared/conda_env_1/lib/python3.12/site-packages)\u001b[0m\u001b[33m\n",
      "Installing collected packages: nvidia-nvtx-cu12, nvidia-nccl-cu12, nvidia-cusparse-cu12, nvidia-curand-cu12, nvidia-cufft-cu12, nvidia-cuda-runtime-cu12, nvidia-cuda-nvrtc-cu12, nvidia-cuda-cupti-cu12, nvidia-cublas-cu12, nvidia-cusolver-cu12, nvidia-cudnn-cu12, accelerate, peft\n",
      "Successfully installed accelerate-1.9.0 nvidia-cublas-cu12-12.1.3.1 nvidia-cuda-cupti-cu12-12.1.105 nvidia-cuda-nvrtc-cu12-12.1.105 nvidia-cuda-runtime-cu12-12.1.105 nvidia-cudnn-cu12-9.1.0.70 nvidia-cufft-cu12-11.0.2.54 nvidia-curand-cu12-10.3.2.106 nvidia-cusolver-cu12-11.4.5.107 nvidia-cusparse-cu12-12.1.0.106 nvidia-nccl-cu12-2.20.5 nvidia-nvtx-cu12-12.1.105 peft-0.16.0\n",
      "Note: you may need to restart the kernel to use updated packages.\n"
     ]
    }
   ],
   "source": [
    "pip install transformers datasets peft accelerate"
   ]
  },
  {
   "cell_type": "code",
   "execution_count": null,
   "id": "bccdd9fc-4d49-4463-bcd2-466dd5f0468e",
   "metadata": {
    "id": "bccdd9fc-4d49-4463-bcd2-466dd5f0468e"
   },
   "outputs": [],
   "source": [
    "import argparse\n",
    "import logging\n",
    "from datasets import load_dataset\n",
    "from transformers import (\n",
    "    AutoTokenizer,\n",
    "    AutoModelForCausalLM,\n",
    "    DataCollatorForLanguageModeling,\n",
    "    Trainer,\n",
    "    TrainingArguments,\n",
    ")\n",
    "from peft import LoraConfig, get_peft_model, TaskType"
   ]
  },
  {
   "cell_type": "markdown",
   "id": "aa59d0b9-67f8-490d-a66e-6f3a6ad03edf",
   "metadata": {
    "id": "aa59d0b9-67f8-490d-a66e-6f3a6ad03edf"
   },
   "source": [
    "Data Preparation"
   ]
  },
  {
   "cell_type": "code",
   "execution_count": null,
   "id": "38040aea-d5f2-4b2a-9d46-96d9462dc38b",
   "metadata": {
    "id": "38040aea-d5f2-4b2a-9d46-96d9462dc38b",
    "outputId": "fb17938e-4c61-4b77-e54a-d4a6b8ae510b"
   },
   "outputs": [
    {
     "name": "stdout",
     "output_type": "stream",
     "text": [
      "Reading enron_cleaned_v7.csv…\n",
      "Wrote 44847 examples to enron_pairs.jsonl.\n"
     ]
    }
   ],
   "source": [
    "# data_prep_step1.py\n",
    "\n",
    "import pandas as pd\n",
    "import json\n",
    "import re\n",
    "import warnings\n",
    "\n",
    "def extract_tag_index(tag: str) -> int:\n",
    "    \"\"\"\n",
    "    Map message tags to an integer index for ordering:\n",
    "      \"<|original|>\" → 0\n",
    "      \"<|replyN|>\"   → N\n",
    "    Anything else → large number (sorts last).\n",
    "    \"\"\"\n",
    "    if tag == \"<|original|>\":\n",
    "        return 0\n",
    "    m = re.match(r\"<\\|reply(\\d+)\\|>\", tag)\n",
    "    if m:\n",
    "        return int(m.group(1))\n",
    "    return 9999\n",
    "\n",
    "def prepare_pairs(input_csv: str, output_jsonl: str):\n",
    "    # 1) Load the CSV, skipping malformed lines\n",
    "    with warnings.catch_warnings():\n",
    "        warnings.simplefilter(\"ignore\")\n",
    "        df = pd.read_csv(\n",
    "            input_csv,\n",
    "            engine='python',\n",
    "            on_bad_lines='skip'\n",
    "        )\n",
    "\n",
    "    # 2) Ensure there's a 'subject' column (blank for now)\n",
    "    if 'subject' not in df.columns:\n",
    "        df['subject'] = \"\"\n",
    "\n",
    "    examples = []\n",
    "\n",
    "    # 3) Process each thread\n",
    "    for thread_id, group in df.groupby(\"message_id\", sort=False):\n",
    "        grp = group.copy()\n",
    "        # 4) Sort messages by tag index\n",
    "        grp['idx'] = grp['tag'].apply(extract_tag_index)\n",
    "        grp = grp.sort_values('idx')\n",
    "\n",
    "        msgs = grp['clean_message'].tolist()\n",
    "        # 5a) Grab the subject from the original message row\n",
    "        subject_rows = grp.loc[grp['idx'] == 0, 'subject']\n",
    "        subject = subject_rows.iloc[0] if not subject_rows.empty else \"\"\n",
    "\n",
    "        # 5b) For each reply position i (i >= 1), build one example\n",
    "        for i in range(1, len(msgs)):\n",
    "            examples.append({\n",
    "                \"thread\": \" \".join(msgs[:i]),  # all messages before reply i\n",
    "                \"subject\": subject,            # blank or to-be-filled later\n",
    "                \"email\": msgs[i-1],            # immediate predecessor\n",
    "                \"reply\": msgs[i],              # this reply\n",
    "                \"tone\": \"[formal]\"             # placeholder tone\n",
    "            })\n",
    "\n",
    "    # 6) Write examples to JSONL\n",
    "    with open(output_jsonl, 'w', encoding='utf-8') as fout:\n",
    "        for ex in examples:\n",
    "            fout.write(json.dumps(ex, ensure_ascii=False) + \"\\n\")\n",
    "\n",
    "if __name__ == \"__main__\":\n",
    "    input_csv    = \"enron_cleaned_v7.csv\"\n",
    "    output_jsonl = \"enron_pairs.jsonl\"\n",
    "\n",
    "    print(f\"Reading {input_csv}…\")\n",
    "    prepare_pairs(input_csv, output_jsonl)\n",
    "    count = sum(1 for _ in open(output_jsonl, encoding='utf-8'))\n",
    "    print(f\"Wrote {count} examples to {output_jsonl}.\")\n"
   ]
  },
  {
   "cell_type": "code",
   "execution_count": null,
   "id": "6b4be12f-f2b6-4f82-8fd6-0067f619fff6",
   "metadata": {
    "id": "6b4be12f-f2b6-4f82-8fd6-0067f619fff6"
   },
   "outputs": [],
   "source": []
  }
 ],
 "metadata": {
  "colab": {
   "provenance": []
  },
  "kernelspec": {
   "display_name": "Python 3 (ipykernel)",
   "language": "python",
   "name": "python3"
  },
  "language_info": {
   "codemirror_mode": {
    "name": "ipython",
    "version": 3
   },
   "file_extension": ".py",
   "mimetype": "text/x-python",
   "name": "python",
   "nbconvert_exporter": "python",
   "pygments_lexer": "ipython3",
   "version": "3.12.6"
  }
 },
 "nbformat": 4,
 "nbformat_minor": 5
}
