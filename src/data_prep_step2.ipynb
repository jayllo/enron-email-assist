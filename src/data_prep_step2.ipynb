{
 "cells": [
  {
   "cell_type": "code",
   "execution_count": 1,
   "id": "92f39bc1-1012-4639-986d-6f60faaaf3dc",
   "metadata": {},
   "outputs": [
    {
     "name": "stdout",
     "output_type": "stream",
     "text": [
      "Building prompts…\n",
      "Done.\n"
     ]
    }
   ],
   "source": [
    "# data_prep_step2.py\n",
    "\n",
    "import json\n",
    "\n",
    "def build_prompts(input_jsonl: str,\n",
    "                  output_full: str,\n",
    "                  output_subject: str):\n",
    "    \"\"\"\n",
    "    Reads each example from input_jsonl (which has keys:\n",
    "      'thread', 'subject', 'email', 'reply', 'tone')\n",
    "    and writes two JSONL files, one per prompt format.\n",
    "    \"\"\"\n",
    "    with open(input_jsonl, encoding='utf-8') as fin, \\\n",
    "         open(output_full,    'w', encoding='utf-8') as fout_full, \\\n",
    "         open(output_subject, 'w', encoding='utf-8') as fout_subj:\n",
    "\n",
    "        for line in fin:\n",
    "            ex = json.loads(line)\n",
    "\n",
    "            # 1) Full-thread prompt\n",
    "            prompt_full = (\n",
    "                f\"{ex['tone']} Thread: {ex['thread']} Reply: {ex['reply']}\"\n",
    "            )\n",
    "            fout_full.write(\n",
    "                json.dumps({\"text\": prompt_full}, ensure_ascii=False) + \"\\n\"\n",
    "            )\n",
    "\n",
    "            # 2) Subject + last email prompt\n",
    "            prompt_subj = (\n",
    "                f\"{ex['tone']} Subject: {ex['subject']} ┃ \"\n",
    "                f\"Last message: {ex['email']} Reply: {ex['reply']}\"\n",
    "            )\n",
    "            fout_subj.write(\n",
    "                json.dumps({\"text\": prompt_subj}, ensure_ascii=False) + \"\\n\"\n",
    "            )\n",
    "\n",
    "if __name__ == \"__main__\":\n",
    "    input_jsonl    = \"enron_pairs.jsonl\"\n",
    "    output_full    = \"enron_prompts_full.jsonl\"\n",
    "    output_subject = \"enron_prompts_subject.jsonl\"\n",
    "\n",
    "    print(\"Building prompts…\")\n",
    "    build_prompts(input_jsonl, output_full, output_subject)\n",
    "    print(\"Done.\")\n"
   ]
  },
  {
   "cell_type": "code",
   "execution_count": null,
   "id": "684a0537-4213-41e0-a3f5-2546c9f9c4f2",
   "metadata": {},
   "outputs": [],
   "source": []
  }
 ],
 "metadata": {
  "kernelspec": {
   "display_name": "Python 3 (ipykernel)",
   "language": "python",
   "name": "python3"
  },
  "language_info": {
   "codemirror_mode": {
    "name": "ipython",
    "version": 3
   },
   "file_extension": ".py",
   "mimetype": "text/x-python",
   "name": "python",
   "nbconvert_exporter": "python",
   "pygments_lexer": "ipython3",
   "version": "3.12.4"
  }
 },
 "nbformat": 4,
 "nbformat_minor": 5
}
