{
 "cells": [
  {
   "cell_type": "code",
   "execution_count": 1,
   "metadata": {
    "colab": {
     "base_uri": "https://localhost:8080/"
    },
    "executionInfo": {
     "elapsed": 14012,
     "status": "ok",
     "timestamp": 1752952760283,
     "user": {
      "displayName": "Shang Min (Anna) Yi",
      "userId": "06669389745700277658"
     },
     "user_tz": 360
    },
    "id": "OjHk1zTGH654",
    "outputId": "6fa29171-b358-4b36-d996-058e275749d6"
   },
   "outputs": [
    {
     "name": "stdout",
     "output_type": "stream",
     "text": [
      "Mounted at /content/drive\n"
     ]
    }
   ],
   "source": [
    "from google.colab import drive\n",
    "drive.mount('/content/drive', force_remount=True)"
   ]
  },
  {
   "cell_type": "code",
   "execution_count": 2,
   "metadata": {
    "colab": {
     "base_uri": "https://localhost:8080/"
    },
    "executionInfo": {
     "elapsed": 489,
     "status": "ok",
     "timestamp": 1752952760778,
     "user": {
      "displayName": "Shang Min (Anna) Yi",
      "userId": "06669389745700277658"
     },
     "user_tz": 360
    },
    "id": "77IC9yYzH-1v",
    "outputId": "ee3ede93-4bdb-45a3-d080-632aaa967138"
   },
   "outputs": [
    {
     "name": "stdout",
     "output_type": "stream",
     "text": [
      "/content/drive/MyDrive/IE7374_Group14/colab\n"
     ]
    }
   ],
   "source": [
    "cd drive/MyDrive/IE7374_Group14/colab/"
   ]
  },
  {
   "cell_type": "code",
   "execution_count": 3,
   "metadata": {
    "executionInfo": {
     "elapsed": 9049,
     "status": "ok",
     "timestamp": 1752952769830,
     "user": {
      "displayName": "Shang Min (Anna) Yi",
      "userId": "06669389745700277658"
     },
     "user_tz": 360
    },
    "id": "VtQwKVVBH_8V"
   },
   "outputs": [],
   "source": [
    "import pandas as pd\n",
    "import numpy as np\n",
    "\n",
    "import os\n",
    "import re\n",
    "import random\n",
    "from multiprocessing import Pool\n",
    "\n",
    "import email\n",
    "from email import policy\n",
    "from email.policy import default\n",
    "\n",
    "from email.parser import BytesParser\n",
    "from email import message_from_string\n",
    "\n",
    "import spacy\n"
   ]
  },
  {
   "cell_type": "markdown",
   "metadata": {
    "id": "4kUjd5w9XVXn"
   },
   "source": [
    "# Load Dataset"
   ]
  },
  {
   "cell_type": "code",
   "execution_count": 4,
   "metadata": {
    "executionInfo": {
     "elapsed": 31176,
     "status": "ok",
     "timestamp": 1752952801024,
     "user": {
      "displayName": "Shang Min (Anna) Yi",
      "userId": "06669389745700277658"
     },
     "user_tz": 360
    },
    "id": "TZeGH9ejIIAr"
   },
   "outputs": [],
   "source": [
    "df = pd.read_csv('emails.csv')"
   ]
  },
  {
   "cell_type": "code",
   "execution_count": 5,
   "metadata": {
    "colab": {
     "base_uri": "https://localhost:8080/"
    },
    "executionInfo": {
     "elapsed": 73,
     "status": "ok",
     "timestamp": 1752952801095,
     "user": {
      "displayName": "Shang Min (Anna) Yi",
      "userId": "06669389745700277658"
     },
     "user_tz": 360
    },
    "id": "BLtL5hAbIKcw",
    "outputId": "fb1b223d-87d2-40a2-aadc-0f4d9caed70a"
   },
   "outputs": [
    {
     "name": "stdout",
     "output_type": "stream",
     "text": [
      "<class 'pandas.core.frame.DataFrame'>\n",
      "RangeIndex: 517401 entries, 0 to 517400\n",
      "Data columns (total 2 columns):\n",
      " #   Column   Non-Null Count   Dtype \n",
      "---  ------   --------------   ----- \n",
      " 0   file     517401 non-null  object\n",
      " 1   message  517401 non-null  object\n",
      "dtypes: object(2)\n",
      "memory usage: 7.9+ MB\n"
     ]
    }
   ],
   "source": [
    "df.info()"
   ]
  },
  {
   "cell_type": "code",
   "execution_count": 6,
   "metadata": {
    "colab": {
     "base_uri": "https://localhost:8080/"
    },
    "executionInfo": {
     "elapsed": 853,
     "status": "ok",
     "timestamp": 1752952801949,
     "user": {
      "displayName": "Shang Min (Anna) Yi",
      "userId": "06669389745700277658"
     },
     "user_tz": 360
    },
    "id": "uTeeB__xINF5",
    "outputId": "4e4a1558-c9d1-49bb-c251-02d7d12b3150"
   },
   "outputs": [
    {
     "name": "stdout",
     "output_type": "stream",
     "text": [
      "Number of duplicate messages: 0\n"
     ]
    }
   ],
   "source": [
    "duplicates = df[df.duplicated(subset='message', keep=False)]\n",
    "print(f\"Number of duplicate messages: {duplicates.shape[0]}\")"
   ]
  },
  {
   "cell_type": "markdown",
   "metadata": {
    "id": "IyfCpNVMXYrQ"
   },
   "source": [
    "# Split Message-ID"
   ]
  },
  {
   "cell_type": "code",
   "execution_count": 7,
   "metadata": {
    "executionInfo": {
     "elapsed": 5,
     "status": "ok",
     "timestamp": 1752952804020,
     "user": {
      "displayName": "Shang Min (Anna) Yi",
      "userId": "06669389745700277658"
     },
     "user_tz": 360
    },
    "id": "a1SW0MzRIQBP"
   },
   "outputs": [],
   "source": [
    "df_split1 = df.copy()"
   ]
  },
  {
   "cell_type": "code",
   "execution_count": 8,
   "metadata": {
    "executionInfo": {
     "elapsed": 3,
     "status": "ok",
     "timestamp": 1752952811945,
     "user": {
      "displayName": "Shang Min (Anna) Yi",
      "userId": "06669389745700277658"
     },
     "user_tz": 360
    },
    "id": "Z5tOm0MzISuv"
   },
   "outputs": [],
   "source": [
    "def split_metadata_and_body(email_text):\n",
    "\n",
    "    pattern = r'(Message-ID:.*?X-FileName:.*?\\n)'\n",
    "    match = re.search(pattern, email_text, re.DOTALL | re.IGNORECASE)\n",
    "    if match:\n",
    "        metadata = match.group(1).strip()\n",
    "        body = email_text[match.end():].strip()\n",
    "    else:\n",
    "        metadata, body = '', email_text.strip()\n",
    "    return metadata, body\n"
   ]
  },
  {
   "cell_type": "code",
   "execution_count": 9,
   "metadata": {
    "executionInfo": {
     "elapsed": 72255,
     "status": "ok",
     "timestamp": 1752952892638,
     "user": {
      "displayName": "Shang Min (Anna) Yi",
      "userId": "06669389745700277658"
     },
     "user_tz": 360
    },
    "id": "LBZ3Fy2HIUpD"
   },
   "outputs": [],
   "source": [
    "df_split1[['metadata_block', 'message_body']] = df_split1['message'].apply(\n",
    "    lambda x: pd.Series(split_metadata_and_body(x))\n",
    ")\n"
   ]
  },
  {
   "cell_type": "markdown",
   "metadata": {
    "id": "bfQI9CF7Xcmt"
   },
   "source": [
    "# Clean Dataset"
   ]
  },
  {
   "cell_type": "code",
   "execution_count": 10,
   "metadata": {
    "executionInfo": {
     "elapsed": 557,
     "status": "ok",
     "timestamp": 1752952993580,
     "user": {
      "displayName": "Shang Min (Anna) Yi",
      "userId": "06669389745700277658"
     },
     "user_tz": 360
    },
    "id": "RxlXLY6FI9CA"
   },
   "outputs": [],
   "source": [
    "df_split1['message_length'] = df_split1['message_body'].apply(len)"
   ]
  },
  {
   "cell_type": "code",
   "execution_count": 11,
   "metadata": {
    "colab": {
     "base_uri": "https://localhost:8080/"
    },
    "executionInfo": {
     "elapsed": 25,
     "status": "ok",
     "timestamp": 1752952998335,
     "user": {
      "displayName": "Shang Min (Anna) Yi",
      "userId": "06669389745700277658"
     },
     "user_tz": 360
    },
    "id": "CofimoRTI9p2",
    "outputId": "5fb62dba-aa70-43d9-b6cf-b5062a175a8b"
   },
   "outputs": [
    {
     "name": "stdout",
     "output_type": "stream",
     "text": [
      "Lower Outlier Limit: 0\n",
      "Upper Outlier Limit: 3952.0\n"
     ]
    }
   ],
   "source": [
    "# Calculate Q1 and Q3\n",
    "Q1 = df_split1['message_length'].quantile(0.25)\n",
    "Q3 = df_split1['message_length'].quantile(0.75)\n",
    "IQR = Q3 - Q1\n",
    "\n",
    "# Set boundaries (we can't have messages with len lower than 1)\n",
    "lower_bound = max(0, Q1 - 1.5 * IQR)\n",
    "upper_bound = Q3 + 1.5 * IQR\n",
    "\n",
    "print(f\"Lower Outlier Limit: {lower_bound}\")\n",
    "print(f\"Upper Outlier Limit: {upper_bound}\")\n"
   ]
  },
  {
   "cell_type": "code",
   "execution_count": 12,
   "metadata": {
    "executionInfo": {
     "elapsed": 1407,
     "status": "ok",
     "timestamp": 1752953011938,
     "user": {
      "displayName": "Shang Min (Anna) Yi",
      "userId": "06669389745700277658"
     },
     "user_tz": 360
    },
    "id": "8va37ksgJDJP"
   },
   "outputs": [],
   "source": [
    "df_clean2 = df_split1[df_split1['message_body'].str.len() < 3952].copy()"
   ]
  },
  {
   "cell_type": "code",
   "execution_count": 15,
   "metadata": {
    "colab": {
     "base_uri": "https://localhost:8080/",
     "height": 143
    },
    "executionInfo": {
     "elapsed": 6,
     "status": "ok",
     "timestamp": 1752953214004,
     "user": {
      "displayName": "Shang Min (Anna) Yi",
      "userId": "06669389745700277658"
     },
     "user_tz": 360
    },
    "id": "NZ09HBKoJzIu",
    "outputId": "3eb51bcf-e1ac-4397-b32d-d45f93206fe6"
   },
   "outputs": [
    {
     "data": {
      "application/vnd.google.colaboratory.intrinsic+json": {
       "type": "dataframe",
       "variable_name": "df_clean2"
      },
      "text/html": [
       "\n",
       "  <div id=\"df-984da82a-e68e-44cf-9796-0405b9881bd4\" class=\"colab-df-container\">\n",
       "    <div>\n",
       "<style scoped>\n",
       "    .dataframe tbody tr th:only-of-type {\n",
       "        vertical-align: middle;\n",
       "    }\n",
       "\n",
       "    .dataframe tbody tr th {\n",
       "        vertical-align: top;\n",
       "    }\n",
       "\n",
       "    .dataframe thead th {\n",
       "        text-align: right;\n",
       "    }\n",
       "</style>\n",
       "<table border=\"1\" class=\"dataframe\">\n",
       "  <thead>\n",
       "    <tr style=\"text-align: right;\">\n",
       "      <th></th>\n",
       "      <th>file</th>\n",
       "      <th>message</th>\n",
       "      <th>metadata_block</th>\n",
       "      <th>message_body</th>\n",
       "      <th>message_length</th>\n",
       "    </tr>\n",
       "  </thead>\n",
       "  <tbody>\n",
       "    <tr>\n",
       "      <th>0</th>\n",
       "      <td>allen-p/_sent_mail/1.</td>\n",
       "      <td>Message-ID: &lt;18782981.1075855378110.JavaMail.e...</td>\n",
       "      <td>Message-ID: &lt;18782981.1075855378110.JavaMail.e...</td>\n",
       "      <td>Here is our forecast</td>\n",
       "      <td>20</td>\n",
       "    </tr>\n",
       "    <tr>\n",
       "      <th>1</th>\n",
       "      <td>allen-p/_sent_mail/10.</td>\n",
       "      <td>Message-ID: &lt;15464986.1075855378456.JavaMail.e...</td>\n",
       "      <td>Message-ID: &lt;15464986.1075855378456.JavaMail.e...</td>\n",
       "      <td>Traveling to have a business meeting takes the...</td>\n",
       "      <td>785</td>\n",
       "    </tr>\n",
       "    <tr>\n",
       "      <th>2</th>\n",
       "      <td>allen-p/_sent_mail/100.</td>\n",
       "      <td>Message-ID: &lt;24216240.1075855687451.JavaMail.e...</td>\n",
       "      <td>Message-ID: &lt;24216240.1075855687451.JavaMail.e...</td>\n",
       "      <td>test successful.  way to go!!!</td>\n",
       "      <td>30</td>\n",
       "    </tr>\n",
       "  </tbody>\n",
       "</table>\n",
       "</div>\n",
       "    <div class=\"colab-df-buttons\">\n",
       "\n",
       "  <div class=\"colab-df-container\">\n",
       "    <button class=\"colab-df-convert\" onclick=\"convertToInteractive('df-984da82a-e68e-44cf-9796-0405b9881bd4')\"\n",
       "            title=\"Convert this dataframe to an interactive table.\"\n",
       "            style=\"display:none;\">\n",
       "\n",
       "  <svg xmlns=\"http://www.w3.org/2000/svg\" height=\"24px\" viewBox=\"0 -960 960 960\">\n",
       "    <path d=\"M120-120v-720h720v720H120Zm60-500h600v-160H180v160Zm220 220h160v-160H400v160Zm0 220h160v-160H400v160ZM180-400h160v-160H180v160Zm440 0h160v-160H620v160ZM180-180h160v-160H180v160Zm440 0h160v-160H620v160Z\"/>\n",
       "  </svg>\n",
       "    </button>\n",
       "\n",
       "  <style>\n",
       "    .colab-df-container {\n",
       "      display:flex;\n",
       "      gap: 12px;\n",
       "    }\n",
       "\n",
       "    .colab-df-convert {\n",
       "      background-color: #E8F0FE;\n",
       "      border: none;\n",
       "      border-radius: 50%;\n",
       "      cursor: pointer;\n",
       "      display: none;\n",
       "      fill: #1967D2;\n",
       "      height: 32px;\n",
       "      padding: 0 0 0 0;\n",
       "      width: 32px;\n",
       "    }\n",
       "\n",
       "    .colab-df-convert:hover {\n",
       "      background-color: #E2EBFA;\n",
       "      box-shadow: 0px 1px 2px rgba(60, 64, 67, 0.3), 0px 1px 3px 1px rgba(60, 64, 67, 0.15);\n",
       "      fill: #174EA6;\n",
       "    }\n",
       "\n",
       "    .colab-df-buttons div {\n",
       "      margin-bottom: 4px;\n",
       "    }\n",
       "\n",
       "    [theme=dark] .colab-df-convert {\n",
       "      background-color: #3B4455;\n",
       "      fill: #D2E3FC;\n",
       "    }\n",
       "\n",
       "    [theme=dark] .colab-df-convert:hover {\n",
       "      background-color: #434B5C;\n",
       "      box-shadow: 0px 1px 3px 1px rgba(0, 0, 0, 0.15);\n",
       "      filter: drop-shadow(0px 1px 2px rgba(0, 0, 0, 0.3));\n",
       "      fill: #FFFFFF;\n",
       "    }\n",
       "  </style>\n",
       "\n",
       "    <script>\n",
       "      const buttonEl =\n",
       "        document.querySelector('#df-984da82a-e68e-44cf-9796-0405b9881bd4 button.colab-df-convert');\n",
       "      buttonEl.style.display =\n",
       "        google.colab.kernel.accessAllowed ? 'block' : 'none';\n",
       "\n",
       "      async function convertToInteractive(key) {\n",
       "        const element = document.querySelector('#df-984da82a-e68e-44cf-9796-0405b9881bd4');\n",
       "        const dataTable =\n",
       "          await google.colab.kernel.invokeFunction('convertToInteractive',\n",
       "                                                    [key], {});\n",
       "        if (!dataTable) return;\n",
       "\n",
       "        const docLinkHtml = 'Like what you see? Visit the ' +\n",
       "          '<a target=\"_blank\" href=https://colab.research.google.com/notebooks/data_table.ipynb>data table notebook</a>'\n",
       "          + ' to learn more about interactive tables.';\n",
       "        element.innerHTML = '';\n",
       "        dataTable['output_type'] = 'display_data';\n",
       "        await google.colab.output.renderOutput(dataTable, element);\n",
       "        const docLink = document.createElement('div');\n",
       "        docLink.innerHTML = docLinkHtml;\n",
       "        element.appendChild(docLink);\n",
       "      }\n",
       "    </script>\n",
       "  </div>\n",
       "\n",
       "\n",
       "    <div id=\"df-a8e7fce1-9883-487c-9640-e0255a9442c4\">\n",
       "      <button class=\"colab-df-quickchart\" onclick=\"quickchart('df-a8e7fce1-9883-487c-9640-e0255a9442c4')\"\n",
       "                title=\"Suggest charts\"\n",
       "                style=\"display:none;\">\n",
       "\n",
       "<svg xmlns=\"http://www.w3.org/2000/svg\" height=\"24px\"viewBox=\"0 0 24 24\"\n",
       "     width=\"24px\">\n",
       "    <g>\n",
       "        <path d=\"M19 3H5c-1.1 0-2 .9-2 2v14c0 1.1.9 2 2 2h14c1.1 0 2-.9 2-2V5c0-1.1-.9-2-2-2zM9 17H7v-7h2v7zm4 0h-2V7h2v10zm4 0h-2v-4h2v4z\"/>\n",
       "    </g>\n",
       "</svg>\n",
       "      </button>\n",
       "\n",
       "<style>\n",
       "  .colab-df-quickchart {\n",
       "      --bg-color: #E8F0FE;\n",
       "      --fill-color: #1967D2;\n",
       "      --hover-bg-color: #E2EBFA;\n",
       "      --hover-fill-color: #174EA6;\n",
       "      --disabled-fill-color: #AAA;\n",
       "      --disabled-bg-color: #DDD;\n",
       "  }\n",
       "\n",
       "  [theme=dark] .colab-df-quickchart {\n",
       "      --bg-color: #3B4455;\n",
       "      --fill-color: #D2E3FC;\n",
       "      --hover-bg-color: #434B5C;\n",
       "      --hover-fill-color: #FFFFFF;\n",
       "      --disabled-bg-color: #3B4455;\n",
       "      --disabled-fill-color: #666;\n",
       "  }\n",
       "\n",
       "  .colab-df-quickchart {\n",
       "    background-color: var(--bg-color);\n",
       "    border: none;\n",
       "    border-radius: 50%;\n",
       "    cursor: pointer;\n",
       "    display: none;\n",
       "    fill: var(--fill-color);\n",
       "    height: 32px;\n",
       "    padding: 0;\n",
       "    width: 32px;\n",
       "  }\n",
       "\n",
       "  .colab-df-quickchart:hover {\n",
       "    background-color: var(--hover-bg-color);\n",
       "    box-shadow: 0 1px 2px rgba(60, 64, 67, 0.3), 0 1px 3px 1px rgba(60, 64, 67, 0.15);\n",
       "    fill: var(--button-hover-fill-color);\n",
       "  }\n",
       "\n",
       "  .colab-df-quickchart-complete:disabled,\n",
       "  .colab-df-quickchart-complete:disabled:hover {\n",
       "    background-color: var(--disabled-bg-color);\n",
       "    fill: var(--disabled-fill-color);\n",
       "    box-shadow: none;\n",
       "  }\n",
       "\n",
       "  .colab-df-spinner {\n",
       "    border: 2px solid var(--fill-color);\n",
       "    border-color: transparent;\n",
       "    border-bottom-color: var(--fill-color);\n",
       "    animation:\n",
       "      spin 1s steps(1) infinite;\n",
       "  }\n",
       "\n",
       "  @keyframes spin {\n",
       "    0% {\n",
       "      border-color: transparent;\n",
       "      border-bottom-color: var(--fill-color);\n",
       "      border-left-color: var(--fill-color);\n",
       "    }\n",
       "    20% {\n",
       "      border-color: transparent;\n",
       "      border-left-color: var(--fill-color);\n",
       "      border-top-color: var(--fill-color);\n",
       "    }\n",
       "    30% {\n",
       "      border-color: transparent;\n",
       "      border-left-color: var(--fill-color);\n",
       "      border-top-color: var(--fill-color);\n",
       "      border-right-color: var(--fill-color);\n",
       "    }\n",
       "    40% {\n",
       "      border-color: transparent;\n",
       "      border-right-color: var(--fill-color);\n",
       "      border-top-color: var(--fill-color);\n",
       "    }\n",
       "    60% {\n",
       "      border-color: transparent;\n",
       "      border-right-color: var(--fill-color);\n",
       "    }\n",
       "    80% {\n",
       "      border-color: transparent;\n",
       "      border-right-color: var(--fill-color);\n",
       "      border-bottom-color: var(--fill-color);\n",
       "    }\n",
       "    90% {\n",
       "      border-color: transparent;\n",
       "      border-bottom-color: var(--fill-color);\n",
       "    }\n",
       "  }\n",
       "</style>\n",
       "\n",
       "      <script>\n",
       "        async function quickchart(key) {\n",
       "          const quickchartButtonEl =\n",
       "            document.querySelector('#' + key + ' button');\n",
       "          quickchartButtonEl.disabled = true;  // To prevent multiple clicks.\n",
       "          quickchartButtonEl.classList.add('colab-df-spinner');\n",
       "          try {\n",
       "            const charts = await google.colab.kernel.invokeFunction(\n",
       "                'suggestCharts', [key], {});\n",
       "          } catch (error) {\n",
       "            console.error('Error during call to suggestCharts:', error);\n",
       "          }\n",
       "          quickchartButtonEl.classList.remove('colab-df-spinner');\n",
       "          quickchartButtonEl.classList.add('colab-df-quickchart-complete');\n",
       "        }\n",
       "        (() => {\n",
       "          let quickchartButtonEl =\n",
       "            document.querySelector('#df-a8e7fce1-9883-487c-9640-e0255a9442c4 button');\n",
       "          quickchartButtonEl.style.display =\n",
       "            google.colab.kernel.accessAllowed ? 'block' : 'none';\n",
       "        })();\n",
       "      </script>\n",
       "    </div>\n",
       "\n",
       "    </div>\n",
       "  </div>\n"
      ],
      "text/plain": [
       "                      file                                            message  \\\n",
       "0    allen-p/_sent_mail/1.  Message-ID: <18782981.1075855378110.JavaMail.e...   \n",
       "1   allen-p/_sent_mail/10.  Message-ID: <15464986.1075855378456.JavaMail.e...   \n",
       "2  allen-p/_sent_mail/100.  Message-ID: <24216240.1075855687451.JavaMail.e...   \n",
       "\n",
       "                                      metadata_block  \\\n",
       "0  Message-ID: <18782981.1075855378110.JavaMail.e...   \n",
       "1  Message-ID: <15464986.1075855378456.JavaMail.e...   \n",
       "2  Message-ID: <24216240.1075855687451.JavaMail.e...   \n",
       "\n",
       "                                        message_body  message_length  \n",
       "0                               Here is our forecast              20  \n",
       "1  Traveling to have a business meeting takes the...             785  \n",
       "2                     test successful.  way to go!!!              30  "
      ]
     },
     "execution_count": 15,
     "metadata": {},
     "output_type": "execute_result"
    }
   ],
   "source": [
    "df_clean2.head(3)\n"
   ]
  },
  {
   "cell_type": "markdown",
   "metadata": {
    "id": "81lUDIs8Xg_j"
   },
   "source": [
    "#Preprocess"
   ]
  },
  {
   "cell_type": "code",
   "execution_count": 24,
   "metadata": {
    "executionInfo": {
     "elapsed": 125,
     "status": "ok",
     "timestamp": 1752954881596,
     "user": {
      "displayName": "Shang Min (Anna) Yi",
      "userId": "06669389745700277658"
     },
     "user_tz": 360
    },
    "id": "5nFk6NlDLR3A"
   },
   "outputs": [],
   "source": [
    "df_processed3 = df_clean2.copy()"
   ]
  },
  {
   "cell_type": "code",
   "execution_count": 30,
   "metadata": {
    "executionInfo": {
     "elapsed": 4,
     "status": "ok",
     "timestamp": 1752958961376,
     "user": {
      "displayName": "Shang Min (Anna) Yi",
      "userId": "06669389745700277658"
     },
     "user_tz": 360
    },
    "id": "KBUQHvgKdmGd"
   },
   "outputs": [],
   "source": [
    "def anonymize_pii(text):\n",
    "    if not text or not isinstance(text, str):\n",
    "        return \"\"\n",
    "\n",
    "    doc = nlp(text)\n",
    "    anonymized_tokens = []\n",
    "\n",
    "    for token in doc:\n",
    "        if token.ent_type_ == \"PERSON\":\n",
    "            anonymized_tokens.append(\"<ANON_NAME>\")\n",
    "        elif \"@\" in token.text and any(t.like_email for t in doc):\n",
    "            anonymized_tokens.append(\"<ANON_EMAIL>\")\n",
    "        else:\n",
    "            anonymized_tokens.append(token.text)\n",
    "\n",
    "    anonymized_text = \" \".join(anonymized_tokens)\n",
    "\n",
    "    # Replace phone numbers\n",
    "    anonymized_text = re.sub(\n",
    "        r'(\\b(\\+?\\d{1,2}[-.\\s]?)?\\(?\\d{3}\\)?[-.\\s]?\\d{3}[-.\\s]?\\d{4}\\b)',\n",
    "        '<ANON_PHONE>',\n",
    "        anonymized_text\n",
    "    )\n",
    "\n",
    "    return anonymized_text\n"
   ]
  },
  {
   "cell_type": "code",
   "execution_count": 27,
   "metadata": {
    "executionInfo": {
     "elapsed": 9,
     "status": "ok",
     "timestamp": 1752958485469,
     "user": {
      "displayName": "Shang Min (Anna) Yi",
      "userId": "06669389745700277658"
     },
     "user_tz": 360
    },
    "id": "f0jcv_FlXoV2"
   },
   "outputs": [],
   "source": [
    "\n",
    "def get_text_payload(msg):\n",
    "\n",
    "    if not msg.is_multipart():\n",
    "        if msg.get_content_type() == 'text/plain':\n",
    "            payload = msg.get_payload(decode=True)\n",
    "            charset = msg.get_content_charset() or 'ascii'\n",
    "            try:\n",
    "                return payload.decode(charset, errors='replace')\n",
    "            except (LookupError, TypeError):\n",
    "                return payload.decode('ascii', errors='replace')\n",
    "        else:\n",
    "            return \"\"\n",
    "\n",
    "    text_parts = []\n",
    "    for part in msg.walk():\n",
    "        payload = get_text_payload(part)\n",
    "        if payload:\n",
    "            text_parts.append(payload)\n",
    "\n",
    "    return \"\\n\".join(text_parts)\n",
    "\n",
    "def final_scrub_text(text):\n",
    "\n",
    "    # Remove forwarded message headers that might have been missed\n",
    "    lines = text.split('\\n')\n",
    "    first_real_line_index = 0\n",
    "    for i, line in enumerate(lines):\n",
    "        if re.match(r'^\\s*(from|sent|to|cc|subject|date|forwarded):', line, re.IGNORECASE):\n",
    "            continue\n",
    "        # Stop at the first line that is not a header-like line.\n",
    "        if line.strip() not in ('', '>'):\n",
    "            first_real_line_index = i\n",
    "            break\n",
    "    text = '\\n'.join(lines[first_real_line_index:])\n",
    "\n",
    "    text = anonymize_pii(text)\n",
    "\n",
    "    # Remove other common email artifacts\n",
    "    # URLs\n",
    "    text = re.sub(r'https?://\\S+|www\\.\\S+', '<ANON_URL>', text)\n",
    "    # Quoted reply lines (e.g., \"> blah blah blah\")\n",
    "    text = re.sub(r'^\\s*>\\s?.*$', '', text, flags=re.MULTILINE)\n",
    "    # MIME encoding artifacts (e.g., \"=20\", \"=0A\")\n",
    "    text = re.sub(r'=[0-9A-F]{2}', '', text)\n",
    "    # Horizontal lines/separators\n",
    "    text = re.sub(r'[-_*=]{3,}', '', text)\n",
    "\n",
    "    # Final whitespace cleanup\n",
    "    text = re.sub(r'\\n\\s*\\n', '\\n', text)\n",
    "    return text.strip()\n"
   ]
  },
  {
   "cell_type": "code",
   "execution_count": 28,
   "metadata": {
    "executionInfo": {
     "elapsed": 13,
     "status": "ok",
     "timestamp": 1752958504838,
     "user": {
      "displayName": "Shang Min (Anna) Yi",
      "userId": "06669389745700277658"
     },
     "user_tz": 360
    },
    "id": "yNsmOHHed8mC"
   },
   "outputs": [],
   "source": [
    "\n",
    "def format_and_split_thread(body_text):\n",
    "    \"\"\"\n",
    "    Splits an email thread, tags replies and the original message.\n",
    "    \"\"\"\n",
    "    blocks = re.split(r'-{5,}\\s*Original Message\\s*-{5,}', body_text, flags=re.IGNORECASE)\n",
    "\n",
    "    # Filter out any empty blocks that might result from the split\n",
    "    blocks = [block.strip() for block in blocks if block.strip()]\n",
    "\n",
    "    if not blocks:\n",
    "        return []\n",
    "\n",
    "    tagged_messages = []\n",
    "    num_blocks = len(blocks)\n",
    "    for i, block in enumerate(blocks):\n",
    "        # The first block is the newest message, the last is the oldest.\n",
    "        if i == num_blocks - 1:\n",
    "            tag = '<|original|>'\n",
    "        else:\n",
    "            tag = f'<|reply{num_blocks - 1 - i}|>'\n",
    "\n",
    "        # Apply the final, aggressive scrub to each individual message block\n",
    "        clean_text = final_scrub_text(block)\n",
    "\n",
    "        # Only add the message if it's not empty after cleaning\n",
    "        if clean_text:\n",
    "            tagged_messages.append({'tag': tag, 'text': clean_text})\n",
    "\n",
    "    return tagged_messages\n",
    "\n",
    "def process_email_row(row):\n",
    "    message_id = row['metadata_block'].split('\\n')[0]  # Or however you extract it\n",
    "    body_text = row['message_body']\n",
    "\n",
    "    threaded_messages = format_and_split_thread(body_text)\n",
    "\n",
    "    entries = []\n",
    "    for part in threaded_messages:\n",
    "        entries.append({\n",
    "            'message_id': message_id,\n",
    "            'tag': part['tag'],\n",
    "            'clean_message': part['text']\n",
    "        })\n",
    "\n",
    "    return entries\n",
    "\n"
   ]
  },
  {
   "cell_type": "code",
   "execution_count": 31,
   "metadata": {
    "colab": {
     "base_uri": "https://localhost:8080/"
    },
    "executionInfo": {
     "elapsed": 12031815,
     "status": "ok",
     "timestamp": 1752971006877,
     "user": {
      "displayName": "Shang Min (Anna) Yi",
      "userId": "06669389745700277658"
     },
     "user_tz": 360
    },
    "id": "mSWqcr3beB26",
    "outputId": "78d6acef-24cc-4c1c-dd3a-2daf87f41ff6"
   },
   "outputs": [
    {
     "name": "stdout",
     "output_type": "stream",
     "text": [
      "                                          message_id           tag  \\\n",
      "0  Message-ID: <18782981.1075855378110.JavaMail.e...  <|original|>   \n",
      "1  Message-ID: <15464986.1075855378456.JavaMail.e...  <|original|>   \n",
      "2  Message-ID: <24216240.1075855687451.JavaMail.e...  <|original|>   \n",
      "3  Message-ID: <13505866.1075863688222.JavaMail.e...  <|original|>   \n",
      "4  Message-ID: <30922949.1075863688243.JavaMail.e...  <|original|>   \n",
      "\n",
      "                                       clean_message  \n",
      "0                               Here is our forecast  \n",
      "1  Traveling to have a business meeting takes the...  \n",
      "2                test successful .   way to go ! ! !  \n",
      "3  <ANON_NAME> , \\n  Can you send me a schedule o...  \n",
      "4                Let 's shoot for Tuesday at 11:45 .  \n"
     ]
    }
   ],
   "source": [
    "\n",
    "if __name__ == '__main__':\n",
    "\n",
    "    with Pool() as pool:\n",
    "        results = pool.map(process_email_row, df_processed3.to_dict('records'))\n",
    "\n",
    "    # Flatten list of lists\n",
    "    cleaned = [item for sublist in results for item in sublist]\n",
    "    df_processed3 = pd.DataFrame(cleaned)\n",
    "\n",
    "    df_processed3.to_csv('enron_cleaned_v8.csv', index=False)\n",
    "    print(df_processed3.head())\n"
   ]
  },
  {
   "cell_type": "markdown",
   "metadata": {
    "id": "L8ip24_NXmxV"
   },
   "source": [
    "# Other Code"
   ]
  },
  {
   "cell_type": "code",
   "execution_count": 16,
   "metadata": {
    "executionInfo": {
     "elapsed": 23,
     "status": "ok",
     "timestamp": 1752953466647,
     "user": {
      "displayName": "Shang Min (Anna) Yi",
      "userId": "06669389745700277658"
     },
     "user_tz": 360
    },
    "id": "3JxMuD9TJwZd"
   },
   "outputs": [],
   "source": [
    "from multiprocessing import Pool, cpu_count\n",
    "from functools import partial\n",
    "import logging"
   ]
  },
  {
   "cell_type": "code",
   "execution_count": 17,
   "metadata": {
    "executionInfo": {
     "elapsed": 3,
     "status": "ok",
     "timestamp": 1752953474818,
     "user": {
      "displayName": "Shang Min (Anna) Yi",
      "userId": "06669389745700277658"
     },
     "user_tz": 360
    },
    "id": "HdAIWrobKzQy"
   },
   "outputs": [],
   "source": [
    "logging.basicConfig(level=logging.INFO)\n",
    "logger = logging.getLogger(__name__)"
   ]
  },
  {
   "cell_type": "code",
   "execution_count": 18,
   "metadata": {
    "executionInfo": {
     "elapsed": 2447,
     "status": "ok",
     "timestamp": 1752953495235,
     "user": {
      "displayName": "Shang Min (Anna) Yi",
      "userId": "06669389745700277658"
     },
     "user_tz": 360
    },
    "id": "KOKTJ9VzK4yM"
   },
   "outputs": [],
   "source": [
    "try:\n",
    "    nlp = spacy.load(\"en_core_web_sm\", disable=[\"parser\", \"tagger\", \"lemmatizer\"])\n",
    "    # Only keep NER pipeline component for better performance\n",
    "    nlp.max_length = 2000000  # Increase max length if needed\n",
    "except OSError:\n",
    "    logger.error(\"spaCy model not found. Install with: python -m spacy download en_core_web_sm\")\n",
    "    nlp = None\n",
    "\n",
    "def get_text_payload(msg):\n",
    "    \"\"\"\n",
    "    Walks through a multipart email message and extracts the first text/plain payload.\n",
    "    This is the most reliable way to get the email body while ignoring attachments.\n",
    "    \"\"\"\n",
    "    if not msg.is_multipart():\n",
    "        if msg.get_content_type() == 'text/plain':\n",
    "            payload = msg.get_payload(decode=True)\n",
    "            charset = msg.get_content_charset() or 'ascii'\n",
    "            try:\n",
    "                return payload.decode(charset, errors='replace')\n",
    "            except (LookupError, TypeError):\n",
    "                return payload.decode('ascii', errors='replace')\n",
    "        else:\n",
    "            return \"\"\n",
    "\n",
    "    text_parts = []\n",
    "    for part in msg.walk():\n",
    "        payload = get_text_payload(part)\n",
    "        if payload:\n",
    "            text_parts.append(payload)\n",
    "\n",
    "    return \"\\n\".join(text_parts)\n"
   ]
  },
  {
   "cell_type": "code",
   "execution_count": 19,
   "metadata": {
    "executionInfo": {
     "elapsed": 219,
     "status": "ok",
     "timestamp": 1752953519178,
     "user": {
      "displayName": "Shang Min (Anna) Yi",
      "userId": "06669389745700277658"
     },
     "user_tz": 360
    },
    "id": "gc-DlA_NK6g9"
   },
   "outputs": [],
   "source": [
    "def final_scrub_text(text):\n",
    "    \"\"\"\n",
    "    Performs a final, aggressive cleaning of the text to remove common email artifacts,\n",
    "    PII, and other noise. This is the key function to ensure high-quality output.\n",
    "    \"\"\"\n",
    "    # 1. Remove forwarded message headers that might have been missed\n",
    "    lines = text.split('\\n')\n",
    "    first_real_line_index = 0\n",
    "    for i, line in enumerate(lines):\n",
    "        if re.match(r'^\\s*(from|sent|to|cc|subject|date|forwarded):', line, re.IGNORECASE):\n",
    "            continue\n",
    "        if line.strip() not in ('', '>'):\n",
    "            first_real_line_index = i\n",
    "            break\n",
    "    text = '\\n'.join(lines[first_real_line_index:])\n",
    "\n",
    "    # 2. Remove legal disclaimers and confidentiality notices\n",
    "    disclaimer_patterns = [\n",
    "        r'\\*+\\s*original message\\s*\\*+',\n",
    "        r'this e-mail is the property of enron corp\\..*',\n",
    "        r'the information contained in this communication is intended only for the use of the designated recipients.*',\n",
    "        r'internet communications are not secure and therefore.*'\n",
    "    ]\n",
    "    for pattern in disclaimer_patterns:\n",
    "        text = re.sub(pattern, '', text, flags=re.IGNORECASE | re.DOTALL)\n",
    "\n",
    "    # 3. Fast regex-based PII anonymization (first pass)\n",
    "    # Email addresses\n",
    "    text = re.sub(r'\\b[\\w\\.\\-+=_%]+@[\\w\\.-]+\\.\\w{2,}\\b', '[EMAIL]', text)\n",
    "    # Phone/Fax numbers (various formats)\n",
    "    text = re.sub(r'(\\b(\\+?\\d{1,2}[-.\\s]?)?\\(?\\d{3}\\)?[-.\\s]?\\d{3}[-.\\s]?\\d{4}\\b)', '[PHONE]', text)\n",
    "\n",
    "    # 4. Remove other common email artifacts\n",
    "    # URLs\n",
    "    text = re.sub(r'https?://\\S+|www\\.\\S+', '[URL]', text)\n",
    "    # Quoted reply lines (e.g., \"> blah blah blah\")\n",
    "    text = re.sub(r'^\\s*>\\s?.*$', '', text, flags=re.MULTILINE)\n",
    "    # MIME encoding artifacts (e.g., \"=20\", \"=0A\")\n",
    "    text = re.sub(r'=[0-9A-F]{2}', '', text)\n",
    "    # Horizontal lines/separators\n",
    "    text = re.sub(r'[-_*=]{3,}', '', text)\n",
    "\n",
    "    # 5. Final whitespace cleanup\n",
    "    text = re.sub(r'\\n\\s*\\n', '\\n', text)\n",
    "    return text.strip()"
   ]
  },
  {
   "cell_type": "code",
   "execution_count": 20,
   "metadata": {
    "executionInfo": {
     "elapsed": 15,
     "status": "ok",
     "timestamp": 1752953537806,
     "user": {
      "displayName": "Shang Min (Anna) Yi",
      "userId": "06669389745700277658"
     },
     "user_tz": 360
    },
    "id": "gs7GpxUdLD1B"
   },
   "outputs": [],
   "source": [
    "def fast_regex_name_anonymization(text):\n",
    "    \"\"\"\n",
    "    Fast regex-based name anonymization as alternative to spaCy.\n",
    "    This catches most common name patterns but may have false positives.\n",
    "    \"\"\"\n",
    "    # Common name patterns\n",
    "    patterns = [\n",
    "        # \"LastName, FirstName\" format\n",
    "        (r'\\b[A-Z][a-z]{2,15},\\s+[A-Z][a-z]{2,15}\\b', '[NAME]'),\n",
    "        # \"FirstName LastName\" format (Title Case)\n",
    "        (r'\\b[A-Z][a-z]{2,15}\\s+[A-Z][a-z]{2,15}\\b', '[NAME]'),\n",
    "        # \"FirstName MiddleInitial LastName\" format\n",
    "        (r'\\b[A-Z][a-z]{2,15}\\s+[A-Z]\\.\\s+[A-Z][a-z]{2,15}\\b', '[NAME]'),\n",
    "        # Common salutations\n",
    "        (r'\\b(Mr|Mrs|Ms|Dr|Prof)\\.\\s+[A-Z][a-z]+\\b', '[NAME]'),\n",
    "    ]\n",
    "\n",
    "    for pattern, replacement in patterns:\n",
    "        text = re.sub(pattern, replacement, text)\n",
    "\n",
    "    return text\n",
    "\n",
    "def optimized_spacy_anonymization(text, max_length=100000):\n",
    "    \"\"\"\n",
    "    Optimized spaCy-based name anonymization with length limits and batching.\n",
    "    \"\"\"\n",
    "    if not nlp:\n",
    "        logger.warning(\"spaCy not available, falling back to regex\")\n",
    "        return fast_regex_name_anonymization(text)\n",
    "\n",
    "    # Truncate very long texts to avoid memory issues\n",
    "    if len(text) > max_length:\n",
    "        text = text[:max_length] + \"... [TRUNCATED]\"\n",
    "\n",
    "    try:\n",
    "        # Process with spaCy\n",
    "        doc = nlp(text)\n",
    "\n",
    "        # Use character-based replacement for better performance\n",
    "        replacements = []\n",
    "        for ent in doc.ents:\n",
    "            if ent.label_ in [\"PERSON\", \"ORG\"]:  # Include organizations too\n",
    "                replacements.append((ent.start_char, ent.end_char, \"[NAME]\"))\n",
    "\n",
    "        # Apply replacements in reverse order to maintain indices\n",
    "        for start, end, replacement in sorted(replacements, reverse=True):\n",
    "            text = text[:start] + replacement + text[end:]\n",
    "\n",
    "        return text\n",
    "\n",
    "    except Exception as e:\n",
    "        logger.warning(f\"spaCy processing failed: {e}, falling back to regex\")\n",
    "        return fast_regex_name_anonymization(text)\n",
    "\n",
    "def process_single_message(message_body, anonymization_method=\"regex\"):\n",
    "    \"\"\"\n",
    "    Process a single message body with cleaning and anonymization.\n",
    "    \"\"\"\n",
    "    try:\n",
    "        # Clean the text first\n",
    "        cleaned_text = final_scrub_text(message_body)\n",
    "\n",
    "        if not cleaned_text.strip():\n",
    "            return \"\"\n",
    "\n",
    "        # Apply anonymization\n",
    "        if anonymization_method == \"spacy\":\n",
    "            anonymized_text = optimized_spacy_anonymization(cleaned_text)\n",
    "        else:\n",
    "            anonymized_text = fast_regex_name_anonymization(cleaned_text)\n",
    "\n",
    "        return anonymized_text\n",
    "\n",
    "    except Exception as e:\n",
    "        logger.error(f\"Error processing message: {e}\")\n",
    "        return \"\"\n",
    "\n",
    "def process_batch_multiprocess(batch_data):\n",
    "    \"\"\"\n",
    "    Process a batch of messages using multiprocessing.\n",
    "    \"\"\"\n",
    "    message_bodies, anonymization_method = batch_data\n",
    "    results = []\n",
    "\n",
    "    for message_body in message_bodies:\n",
    "        result = process_single_message(message_body, anonymization_method)\n",
    "        results.append(result)\n",
    "\n",
    "    return results\n",
    "\n",
    "def process_dataframe_optimized(df, anonymization_method=\"regex\", batch_size=1000, n_processes=None):\n",
    "    \"\"\"\n",
    "    Process the entire dataframe with optimizations.\n",
    "\n",
    "    Parameters:\n",
    "    - df: DataFrame with 'message_body' column\n",
    "    - anonymization_method: \"regex\" (fast) or \"spacy\" (more accurate)\n",
    "    - batch_size: Number of messages to process in each batch\n",
    "    - n_processes: Number of processes to use (None for auto-detect)\n",
    "    \"\"\"\n",
    "    if n_processes is None:\n",
    "        n_processes = min(cpu_count(), 8)  # Cap at 8 to avoid memory issues\n",
    "\n",
    "    logger.info(f\"Processing {len(df)} messages using {n_processes} processes\")\n",
    "    logger.info(f\"Anonymization method: {anonymization_method}\")\n",
    "\n",
    "    # Split data into batches\n",
    "    message_bodies = df['message_body'].tolist()\n",
    "    batches = []\n",
    "\n",
    "    for i in range(0, len(message_bodies), batch_size):\n",
    "        batch_messages = message_bodies[i:i + batch_size]\n",
    "        batches.append((batch_messages, anonymization_method))\n",
    "\n",
    "    # Process batches in parallel\n",
    "    if n_processes > 1:\n",
    "        with Pool(processes=n_processes) as pool:\n",
    "            batch_results = pool.map(process_batch_multiprocess, batches)\n",
    "    else:\n",
    "        # Single process for debugging\n",
    "        batch_results = [process_batch_multiprocess(batch) for batch in batches]\n",
    "\n",
    "    # Flatten results\n",
    "    all_results = []\n",
    "    for batch_result in batch_results:\n",
    "        all_results.extend(batch_result)\n",
    "\n",
    "    # Create new dataframe\n",
    "    df_processed = df.copy()\n",
    "    df_processed['anonymized_message_body'] = all_results\n",
    "\n",
    "    return df_processed\n",
    "\n",
    "# Example usage and testing functions\n",
    "def test_anonymization_methods(sample_text):\n",
    "    \"\"\"\n",
    "    Test different anonymization methods on sample text.\n",
    "    \"\"\"\n",
    "    print(\"Original text:\")\n",
    "    print(sample_text)\n",
    "    print(\"\\n\" + \"=\"*50 + \"\\n\")\n",
    "\n",
    "    print(\"Regex anonymization:\")\n",
    "    regex_result = fast_regex_name_anonymization(sample_text)\n",
    "    print(regex_result)\n",
    "    print(\"\\n\" + \"=\"*50 + \"\\n\")\n",
    "\n",
    "    if nlp:\n",
    "        print(\"spaCy anonymization:\")\n",
    "        spacy_result = optimized_spacy_anonymization(sample_text)\n",
    "        print(spacy_result)\n",
    "\n",
    "def process_large_dataframe_in_chunks(df_path, chunk_size=10000, output_path=None):\n",
    "    \"\"\"\n",
    "    Process a very large CSV file in chunks to manage memory usage.\n",
    "    \"\"\"\n",
    "    if output_path is None:\n",
    "        output_path = df_path.replace('.csv', '_anonymized.csv')\n",
    "\n",
    "    # Process first chunk to get column structure\n",
    "    first_chunk = True\n",
    "\n",
    "    for chunk_df in pd.read_csv(df_path, chunksize=chunk_size):\n",
    "        logger.info(f\"Processing chunk of size {len(chunk_df)}\")\n",
    "\n",
    "        # Process the chunk\n",
    "        processed_chunk = process_dataframe_optimized(\n",
    "            chunk_df,\n",
    "            anonymization_method=\"regex\",  # Use regex for speed on large datasets\n",
    "            batch_size=500,\n",
    "            n_processes=4\n",
    "        )\n",
    "\n",
    "        # Save to file\n",
    "        if first_chunk:\n",
    "            processed_chunk.to_csv(output_path, index=False)\n",
    "            first_chunk = False\n",
    "        else:\n",
    "            processed_chunk.to_csv(output_path, mode='a', header=False, index=False)\n",
    "\n",
    "        logger.info(f\"Chunk processed and saved\")"
   ]
  },
  {
   "cell_type": "code",
   "execution_count": 23,
   "metadata": {
    "colab": {
     "base_uri": "https://localhost:8080/"
    },
    "executionInfo": {
     "elapsed": 74,
     "status": "ok",
     "timestamp": 1752953690543,
     "user": {
      "displayName": "Shang Min (Anna) Yi",
      "userId": "06669389745700277658"
     },
     "user_tz": 360
    },
    "id": "CZhVisGaLKj3",
    "outputId": "6dd191a2-291e-416c-f80d-0d8cb7f48956"
   },
   "outputs": [
    {
     "name": "stdout",
     "output_type": "stream",
     "text": [
      "Original text:\n",
      "Dave, \n",
      "\n",
      " Here are the names of the west desk members by category.  The origination \n",
      "side is very sparse.  \n",
      "\n",
      "\n",
      "\n",
      "\n",
      "\n",
      "Phillip\n",
      "\n",
      "==================================================\n",
      "\n",
      "Regex anonymization:\n",
      "[NAME] are the names of the west desk members by category.  The origination \n",
      "side is very sparse.  \n",
      "\n",
      "\n",
      "\n",
      "\n",
      "\n",
      "Phillip\n",
      "\n",
      "==================================================\n",
      "\n",
      "spaCy anonymization:\n",
      "[NAME], \n",
      "\n",
      " Here are the names of the west desk members by category.  The origination \n",
      "side is very sparse.  \n",
      "\n",
      "\n",
      "\n",
      "\n",
      "\n",
      "[NAME]\n"
     ]
    }
   ],
   "source": [
    "if __name__ == \"__main__\":\n",
    "\n",
    "    test_anonymization_methods(df_processed3['message_body'].iloc[12])"
   ]
  },
  {
   "cell_type": "code",
   "execution_count": 25,
   "metadata": {
    "colab": {
     "base_uri": "https://localhost:8080/",
     "height": 1000
    },
    "executionInfo": {
     "elapsed": 1614121,
     "status": "error",
     "timestamp": 1752956505956,
     "user": {
      "displayName": "Shang Min (Anna) Yi",
      "userId": "06669389745700277658"
     },
     "user_tz": 360
    },
    "id": "8PM4WtipQF7m",
    "outputId": "5b2e41d0-b947-40b2-8d76-8fd808822453"
   },
   "outputs": [
    {
     "name": "stderr",
     "output_type": "stream",
     "text": [
      "Process ForkPoolWorker-1:\n",
      "Process ForkPoolWorker-3:\n",
      "Process ForkPoolWorker-2:\n",
      "Traceback (most recent call last):\n",
      "Traceback (most recent call last):\n",
      "Process ForkPoolWorker-4:\n",
      "  File \"/usr/lib/python3.11/multiprocessing/process.py\", line 314, in _bootstrap\n",
      "    self.run()\n",
      "  File \"/usr/lib/python3.11/multiprocessing/process.py\", line 314, in _bootstrap\n",
      "    self.run()\n",
      "  File \"/usr/lib/python3.11/multiprocessing/process.py\", line 108, in run\n",
      "    self._target(*self._args, **self._kwargs)\n",
      "  File \"/usr/lib/python3.11/multiprocessing/pool.py\", line 125, in worker\n",
      "    result = (True, func(*args, **kwds))\n",
      "                    ^^^^^^^^^^^^^^^^^^^\n",
      "Traceback (most recent call last):\n",
      "Traceback (most recent call last):\n",
      "  File \"/usr/lib/python3.11/multiprocessing/process.py\", line 108, in run\n",
      "    self._target(*self._args, **self._kwargs)\n",
      "  File \"/usr/lib/python3.11/multiprocessing/pool.py\", line 48, in mapstar\n",
      "    return list(map(*args))\n",
      "           ^^^^^^^^^^^^^^^^\n",
      "  File \"/usr/lib/python3.11/multiprocessing/process.py\", line 314, in _bootstrap\n",
      "    self.run()\n",
      "  File \"/usr/lib/python3.11/multiprocessing/process.py\", line 314, in _bootstrap\n",
      "    self.run()\n",
      "  File \"/usr/lib/python3.11/multiprocessing/pool.py\", line 125, in worker\n",
      "    result = (True, func(*args, **kwds))\n",
      "                    ^^^^^^^^^^^^^^^^^^^\n",
      "  File \"/tmp/ipython-input-20-2220339928.py\", line 86, in process_batch_multiprocess\n",
      "    result = process_single_message(message_body, anonymization_method)\n",
      "             ^^^^^^^^^^^^^^^^^^^^^^^^^^^^^^^^^^^^^^^^^^^^^^^^^^^^^^^^^^\n",
      "  File \"/usr/lib/python3.11/multiprocessing/process.py\", line 108, in run\n",
      "    self._target(*self._args, **self._kwargs)\n",
      "  File \"/usr/lib/python3.11/multiprocessing/process.py\", line 108, in run\n",
      "    self._target(*self._args, **self._kwargs)\n",
      "  File \"/usr/lib/python3.11/multiprocessing/pool.py\", line 48, in mapstar\n",
      "    return list(map(*args))\n",
      "           ^^^^^^^^^^^^^^^^\n",
      "  File \"/tmp/ipython-input-20-2220339928.py\", line 68, in process_single_message\n",
      "    anonymized_text = optimized_spacy_anonymization(cleaned_text)\n",
      "                      ^^^^^^^^^^^^^^^^^^^^^^^^^^^^^^^^^^^^^^^^^^^\n",
      "  File \"/usr/lib/python3.11/multiprocessing/pool.py\", line 125, in worker\n",
      "    result = (True, func(*args, **kwds))\n",
      "                    ^^^^^^^^^^^^^^^^^^^\n",
      "  File \"/usr/lib/python3.11/multiprocessing/pool.py\", line 125, in worker\n",
      "    result = (True, func(*args, **kwds))\n",
      "                    ^^^^^^^^^^^^^^^^^^^\n",
      "  File \"/tmp/ipython-input-20-2220339928.py\", line 37, in optimized_spacy_anonymization\n",
      "    doc = nlp(text)\n",
      "          ^^^^^^^^^\n",
      "  File \"/tmp/ipython-input-20-2220339928.py\", line 86, in process_batch_multiprocess\n",
      "    result = process_single_message(message_body, anonymization_method)\n",
      "             ^^^^^^^^^^^^^^^^^^^^^^^^^^^^^^^^^^^^^^^^^^^^^^^^^^^^^^^^^^\n",
      "  File \"/usr/lib/python3.11/multiprocessing/pool.py\", line 48, in mapstar\n",
      "    return list(map(*args))\n",
      "           ^^^^^^^^^^^^^^^^\n",
      "  File \"/usr/lib/python3.11/multiprocessing/pool.py\", line 48, in mapstar\n",
      "    return list(map(*args))\n",
      "           ^^^^^^^^^^^^^^^^\n",
      "  File \"/usr/local/lib/python3.11/dist-packages/spacy/language.py\", line 1053, in __call__\n",
      "    doc = proc(doc, **component_cfg.get(name, {}))  # type: ignore[call-arg]\n",
      "          ^^^^^^^^^^^^^^^^^^^^^^^^^^^^^^^^^^^^^^^^\n",
      "  File \"/tmp/ipython-input-20-2220339928.py\", line 68, in process_single_message\n",
      "    anonymized_text = optimized_spacy_anonymization(cleaned_text)\n",
      "                      ^^^^^^^^^^^^^^^^^^^^^^^^^^^^^^^^^^^^^^^^^^^\n",
      "  File \"/tmp/ipython-input-20-2220339928.py\", line 86, in process_batch_multiprocess\n",
      "    result = process_single_message(message_body, anonymization_method)\n",
      "             ^^^^^^^^^^^^^^^^^^^^^^^^^^^^^^^^^^^^^^^^^^^^^^^^^^^^^^^^^^\n",
      "  File \"/tmp/ipython-input-20-2220339928.py\", line 86, in process_batch_multiprocess\n",
      "    result = process_single_message(message_body, anonymization_method)\n",
      "             ^^^^^^^^^^^^^^^^^^^^^^^^^^^^^^^^^^^^^^^^^^^^^^^^^^^^^^^^^^\n",
      "  File \"/tmp/ipython-input-20-2220339928.py\", line 68, in process_single_message\n",
      "    anonymized_text = optimized_spacy_anonymization(cleaned_text)\n",
      "                      ^^^^^^^^^^^^^^^^^^^^^^^^^^^^^^^^^^^^^^^^^^^\n",
      "  File \"/tmp/ipython-input-20-2220339928.py\", line 37, in optimized_spacy_anonymization\n",
      "    doc = nlp(text)\n",
      "          ^^^^^^^^^\n",
      "  File \"spacy/pipeline/trainable_pipe.pyx\", line 52, in spacy.pipeline.trainable_pipe.TrainablePipe.__call__\n",
      "  File \"/tmp/ipython-input-20-2220339928.py\", line 68, in process_single_message\n",
      "    anonymized_text = optimized_spacy_anonymization(cleaned_text)\n",
      "                      ^^^^^^^^^^^^^^^^^^^^^^^^^^^^^^^^^^^^^^^^^^^\n",
      "  File \"/tmp/ipython-input-20-2220339928.py\", line 37, in optimized_spacy_anonymization\n",
      "    doc = nlp(text)\n",
      "          ^^^^^^^^^\n",
      "  File \"spacy/pipeline/transition_parser.pyx\", line 264, in spacy.pipeline.transition_parser.Parser.predict\n",
      "  File \"/usr/local/lib/python3.11/dist-packages/spacy/language.py\", line 1053, in __call__\n",
      "    doc = proc(doc, **component_cfg.get(name, {}))  # type: ignore[call-arg]\n",
      "          ^^^^^^^^^^^^^^^^^^^^^^^^^^^^^^^^^^^^^^^^\n",
      "  File \"spacy/pipeline/transition_parser.pyx\", line 285, in spacy.pipeline.transition_parser.Parser.greedy_parse\n",
      "  File \"/tmp/ipython-input-20-2220339928.py\", line 37, in optimized_spacy_anonymization\n",
      "    doc = nlp(text)\n",
      "          ^^^^^^^^^\n",
      "  File \"/usr/local/lib/python3.11/dist-packages/spacy/language.py\", line 1053, in __call__\n",
      "    doc = proc(doc, **component_cfg.get(name, {}))  # type: ignore[call-arg]\n",
      "          ^^^^^^^^^^^^^^^^^^^^^^^^^^^^^^^^^^^^^^^^\n",
      "  File \"spacy/pipeline/trainable_pipe.pyx\", line 52, in spacy.pipeline.trainable_pipe.TrainablePipe.__call__\n",
      "  File \"/usr/local/lib/python3.11/dist-packages/spacy/language.py\", line 1053, in __call__\n",
      "    doc = proc(doc, **component_cfg.get(name, {}))  # type: ignore[call-arg]\n",
      "          ^^^^^^^^^^^^^^^^^^^^^^^^^^^^^^^^^^^^^^^^\n",
      "  File \"/usr/local/lib/python3.11/dist-packages/thinc/model.py\", line 334, in predict\n",
      "    return self._func(self, X, is_train=False)[0]\n",
      "           ^^^^^^^^^^^^^^^^^^^^^^^^^^^^^^^^^^^\n",
      "  File \"/usr/local/lib/python3.11/dist-packages/spacy/pipeline/tok2vec.py\", line 121, in predict\n",
      "    tokvecs = self.model.predict(docs)\n",
      "              ^^^^^^^^^^^^^^^^^^^^^^^^\n",
      "  File \"spacy/pipeline/trainable_pipe.pyx\", line 53, in spacy.pipeline.trainable_pipe.TrainablePipe.__call__\n",
      "  File \"spacy/pipeline/trainable_pipe.pyx\", line 52, in spacy.pipeline.trainable_pipe.TrainablePipe.__call__\n",
      "  File \"/usr/local/lib/python3.11/dist-packages/thinc/model.py\", line 310, in __call__\n",
      "    return self._func(self, X, is_train=is_train)\n",
      "           ^^^^^^^^^^^^^^^^^^^^^^^^^^^^^^^^^^^^^^\n",
      "  File \"/usr/local/lib/python3.11/dist-packages/spacy/ml/tb_framework.py\", line 33, in forward\n",
      "    step_model = ParserStepModel(\n",
      "                 ^^^^^^^^^^^^^^^^\n",
      "  File \"/usr/local/lib/python3.11/dist-packages/thinc/model.py\", line 334, in predict\n",
      "    return self._func(self, X, is_train=False)[0]\n",
      "           ^^^^^^^^^^^^^^^^^^^^^^^^^^^^^^^^^^^\n",
      "  File \"spacy/pipeline/transition_parser.pyx\", line 343, in spacy.pipeline.transition_parser.Parser.set_annotations\n",
      "  File \"/usr/local/lib/python3.11/dist-packages/spacy/pipeline/tok2vec.py\", line 121, in predict\n",
      "    tokvecs = self.model.predict(docs)\n",
      "              ^^^^^^^^^^^^^^^^^^^^^^^^\n",
      "  File \"spacy/ml/parser_model.pyx\", line 250, in spacy.ml.parser_model.ParserStepModel.__init__\n",
      "  File \"/usr/local/lib/python3.11/dist-packages/thinc/layers/chain.py\", line 54, in forward\n",
      "    Y, inc_layer_grad = layer(X, is_train=is_train)\n",
      "                        ^^^^^^^^^^^^^^^^^^^^^^^^^^^\n",
      "  File \"spacy/pipeline/_parser_internals/ner.pyx\", line 275, in spacy.pipeline._parser_internals.ner.BiluoPushDown.set_annotations\n",
      "  File \"/usr/local/lib/python3.11/dist-packages/thinc/model.py\", line 334, in predict\n",
      "    return self._func(self, X, is_train=False)[0]\n",
      "           ^^^^^^^^^^^^^^^^^^^^^^^^^^^^^^^^^^^\n",
      "  File \"/usr/local/lib/python3.11/dist-packages/thinc/model.py\", line 310, in __call__\n",
      "    return self._func(self, X, is_train=is_train)\n",
      "           ^^^^^^^^^^^^^^^^^^^^^^^^^^^^^^^^^^^^^^\n",
      "  File \"/usr/local/lib/python3.11/dist-packages/thinc/model.py\", line 310, in __call__\n",
      "    return self._func(self, X, is_train=is_train)\n",
      "           ^^^^^^^^^^^^^^^^^^^^^^^^^^^^^^^^^^^^^^\n",
      "  File \"spacy/tokens/doc.pyx\", line 814, in spacy.tokens.doc.Doc.set_ents\n",
      "  File \"/usr/local/lib/python3.11/dist-packages/thinc/layers/chain.py\", line 54, in forward\n",
      "    Y, inc_layer_grad = layer(X, is_train=is_train)\n",
      "                        ^^^^^^^^^^^^^^^^^^^^^^^^^^^\n",
      "  File \"/usr/local/lib/python3.11/dist-packages/thinc/layers/chain.py\", line 54, in forward\n",
      "    Y, inc_layer_grad = layer(X, is_train=is_train)\n",
      "                        ^^^^^^^^^^^^^^^^^^^^^^^^^^^\n",
      "  File \"/usr/local/lib/python3.11/dist-packages/thinc/layers/chain.py\", line 54, in forward\n",
      "    Y, inc_layer_grad = layer(X, is_train=is_train)\n",
      "                        ^^^^^^^^^^^^^^^^^^^^^^^^^^^\n",
      "  File \"spacy/tokens/doc.pyx\", line 127, in spacy.tokens.doc.SetEntsDefault.values\n",
      "  File \"/usr/local/lib/python3.11/dist-packages/thinc/model.py\", line 310, in __call__\n",
      "    return self._func(self, X, is_train=is_train)\n",
      "           ^^^^^^^^^^^^^^^^^^^^^^^^^^^^^^^^^^^^^^\n",
      "  File \"/usr/local/lib/python3.11/dist-packages/thinc/model.py\", line 310, in __call__\n",
      "    return self._func(self, X, is_train=is_train)\n",
      "           ^^^^^^^^^^^^^^^^^^^^^^^^^^^^^^^^^^^^^^\n",
      "  File \"/usr/local/lib/python3.11/dist-packages/thinc/model.py\", line 310, in __call__\n",
      "    return self._func(self, X, is_train=is_train)\n",
      "           ^^^^^^^^^^^^^^^^^^^^^^^^^^^^^^^^^^^^^^\n",
      "  File \"/usr/local/lib/python3.11/dist-packages/thinc/layers/with_array.py\", line 42, in forward\n",
      "    return cast(Tuple[SeqT, Callable], _list_forward(model, Xseq, is_train))\n",
      "                                       ^^^^^^^^^^^^^^^^^^^^^^^^^^^^^^^^^^^^\n",
      "  File \"/usr/lib/python3.11/enum.py\", line 806, in __members__\n",
      "    @bltns.property\n",
      "    \n",
      "  File \"/usr/local/lib/python3.11/dist-packages/thinc/layers/with_array.py\", line 36, in forward\n",
      "    return cast(Tuple[SeqT, Callable], _ragged_forward(model, Xseq, is_train))\n",
      "                                       ^^^^^^^^^^^^^^^^^^^^^^^^^^^^^^^^^^^^^^\n",
      "  File \"/usr/local/lib/python3.11/dist-packages/thinc/layers/with_array.py\", line 77, in _list_forward\n",
      "    Yf, get_dXf = layer(Xf, is_train)\n",
      "                  ^^^^^^^^^^^^^^^^^^^\n",
      "KeyboardInterrupt\n",
      "  File \"/usr/local/lib/python3.11/dist-packages/thinc/layers/chain.py\", line 54, in forward\n",
      "    Y, inc_layer_grad = layer(X, is_train=is_train)\n",
      "                        ^^^^^^^^^^^^^^^^^^^^^^^^^^^\n",
      "  File \"/usr/local/lib/python3.11/dist-packages/thinc/model.py\", line 310, in __call__\n",
      "    return self._func(self, X, is_train=is_train)\n",
      "           ^^^^^^^^^^^^^^^^^^^^^^^^^^^^^^^^^^^^^^\n",
      "  File \"/usr/local/lib/python3.11/dist-packages/thinc/layers/with_array.py\", line 91, in _ragged_forward\n",
      "    Y, get_dX = layer(Xr.dataXd, is_train)\n",
      "                ^^^^^^^^^^^^^^^^^^^^^^^^^^\n",
      "  File \"/usr/local/lib/python3.11/dist-packages/thinc/model.py\", line 310, in __call__\n",
      "    return self._func(self, X, is_train=is_train)\n",
      "           ^^^^^^^^^^^^^^^^^^^^^^^^^^^^^^^^^^^^^^\n",
      "  File \"/usr/local/lib/python3.11/dist-packages/thinc/model.py\", line 310, in __call__\n",
      "    return self._func(self, X, is_train=is_train)\n",
      "           ^^^^^^^^^^^^^^^^^^^^^^^^^^^^^^^^^^^^^^\n",
      "  File \"/usr/local/lib/python3.11/dist-packages/thinc/layers/chain.py\", line 54, in forward\n",
      "    Y, inc_layer_grad = layer(X, is_train=is_train)\n",
      "                        ^^^^^^^^^^^^^^^^^^^^^^^^^^^\n",
      "  File \"/usr/local/lib/python3.11/dist-packages/thinc/layers/with_array.py\", line 42, in forward\n",
      "    return cast(Tuple[SeqT, Callable], _list_forward(model, Xseq, is_train))\n",
      "                                       ^^^^^^^^^^^^^^^^^^^^^^^^^^^^^^^^^^^^\n",
      "  File \"/usr/local/lib/python3.11/dist-packages/thinc/layers/chain.py\", line 54, in forward\n",
      "    Y, inc_layer_grad = layer(X, is_train=is_train)\n",
      "                        ^^^^^^^^^^^^^^^^^^^^^^^^^^^\n",
      "  File \"/usr/local/lib/python3.11/dist-packages/thinc/layers/with_array.py\", line 77, in _list_forward\n",
      "    Yf, get_dXf = layer(Xf, is_train)\n",
      "                  ^^^^^^^^^^^^^^^^^^^\n",
      "  File \"/usr/local/lib/python3.11/dist-packages/thinc/model.py\", line 310, in __call__\n",
      "    return self._func(self, X, is_train=is_train)\n",
      "           ^^^^^^^^^^^^^^^^^^^^^^^^^^^^^^^^^^^^^^\n",
      "  File \"/usr/local/lib/python3.11/dist-packages/thinc/model.py\", line 310, in __call__\n",
      "    return self._func(self, X, is_train=is_train)\n",
      "           ^^^^^^^^^^^^^^^^^^^^^^^^^^^^^^^^^^^^^^\n",
      "  File \"/usr/local/lib/python3.11/dist-packages/thinc/model.py\", line 310, in __call__\n",
      "    return self._func(self, X, is_train=is_train)\n",
      "           ^^^^^^^^^^^^^^^^^^^^^^^^^^^^^^^^^^^^^^\n",
      "  File \"/usr/local/lib/python3.11/dist-packages/thinc/layers/residual.py\", line 41, in forward\n",
      "    Y, backprop_layer = model.layers[0](X, is_train)\n",
      "                        ^^^^^^^^^^^^^^^^^^^^^^^^^^^^\n",
      "  File \"/usr/local/lib/python3.11/dist-packages/thinc/layers/chain.py\", line 54, in forward\n",
      "    Y, inc_layer_grad = layer(X, is_train=is_train)\n",
      "                        ^^^^^^^^^^^^^^^^^^^^^^^^^^^\n",
      "  File \"/usr/local/lib/python3.11/dist-packages/thinc/layers/chain.py\", line 54, in forward\n",
      "    Y, inc_layer_grad = layer(X, is_train=is_train)\n",
      "                        ^^^^^^^^^^^^^^^^^^^^^^^^^^^\n",
      "  File \"/usr/local/lib/python3.11/dist-packages/thinc/model.py\", line 310, in __call__\n",
      "    return self._func(self, X, is_train=is_train)\n",
      "           ^^^^^^^^^^^^^^^^^^^^^^^^^^^^^^^^^^^^^^\n",
      "  File \"/usr/local/lib/python3.11/dist-packages/thinc/model.py\", line 310, in __call__\n",
      "    return self._func(self, X, is_train=is_train)\n",
      "           ^^^^^^^^^^^^^^^^^^^^^^^^^^^^^^^^^^^^^^\n",
      "  File \"/usr/local/lib/python3.11/dist-packages/thinc/layers/chain.py\", line 54, in forward\n",
      "    Y, inc_layer_grad = layer(X, is_train=is_train)\n",
      "                        ^^^^^^^^^^^^^^^^^^^^^^^^^^^\n",
      "  File \"/usr/local/lib/python3.11/dist-packages/thinc/model.py\", line 310, in __call__\n",
      "    return self._func(self, X, is_train=is_train)\n",
      "           ^^^^^^^^^^^^^^^^^^^^^^^^^^^^^^^^^^^^^^\n",
      "  File \"/usr/local/lib/python3.11/dist-packages/thinc/layers/maxout.py\", line 52, in forward\n",
      "    Y = model.ops.gemm(X, W, trans2=True)\n",
      "        ^^^^^^^^^^^^^^^^^^^^^^^^^^^^^^^^^\n",
      "KeyboardInterrupt\n",
      "  File \"/usr/local/lib/python3.11/dist-packages/thinc/layers/residual.py\", line 41, in forward\n",
      "    Y, backprop_layer = model.layers[0](X, is_train)\n",
      "                        ^^^^^^^^^^^^^^^^^^^^^^^^^^^^\n",
      "  File \"/usr/local/lib/python3.11/dist-packages/thinc/model.py\", line 310, in __call__\n",
      "    return self._func(self, X, is_train=is_train)\n",
      "           ^^^^^^^^^^^^^^^^^^^^^^^^^^^^^^^^^^^^^^\n",
      "  File \"/usr/local/lib/python3.11/dist-packages/thinc/layers/chain.py\", line 54, in forward\n",
      "    Y, inc_layer_grad = layer(X, is_train=is_train)\n",
      "                        ^^^^^^^^^^^^^^^^^^^^^^^^^^^\n",
      "  File \"/usr/local/lib/python3.11/dist-packages/thinc/layers/chain.py\", line 54, in forward\n",
      "    Y, inc_layer_grad = layer(X, is_train=is_train)\n",
      "                        ^^^^^^^^^^^^^^^^^^^^^^^^^^^\n",
      "  File \"/usr/local/lib/python3.11/dist-packages/thinc/model.py\", line 310, in __call__\n",
      "    return self._func(self, X, is_train=is_train)\n",
      "           ^^^^^^^^^^^^^^^^^^^^^^^^^^^^^^^^^^^^^^\n",
      "  File \"/usr/local/lib/python3.11/dist-packages/thinc/model.py\", line 310, in __call__\n",
      "    return self._func(self, X, is_train=is_train)\n",
      "           ^^^^^^^^^^^^^^^^^^^^^^^^^^^^^^^^^^^^^^\n",
      "  File \"/usr/local/lib/python3.11/dist-packages/thinc/layers/chain.py\", line 54, in forward\n",
      "    Y, inc_layer_grad = layer(X, is_train=is_train)\n",
      "                        ^^^^^^^^^^^^^^^^^^^^^^^^^^^\n",
      "  File \"/usr/local/lib/python3.11/dist-packages/thinc/model.py\", line 310, in __call__\n",
      "    return self._func(self, X, is_train=is_train)\n",
      "           ^^^^^^^^^^^^^^^^^^^^^^^^^^^^^^^^^^^^^^\n",
      "  File \"/usr/local/lib/python3.11/dist-packages/thinc/layers/chain.py\", line 54, in forward\n",
      "    Y, inc_layer_grad = layer(X, is_train=is_train)\n",
      "                        ^^^^^^^^^^^^^^^^^^^^^^^^^^^\n",
      "  File \"/usr/local/lib/python3.11/dist-packages/thinc/model.py\", line 310, in __call__\n",
      "    return self._func(self, X, is_train=is_train)\n",
      "           ^^^^^^^^^^^^^^^^^^^^^^^^^^^^^^^^^^^^^^\n",
      "  File \"/usr/local/lib/python3.11/dist-packages/thinc/layers/maxout.py\", line 55, in forward\n",
      "    best, which = model.ops.maxout(Z)\n",
      "                  ^^^^^^^^^^^^^^^^^^^\n",
      "KeyboardInterrupt\n"
     ]
    },
    {
     "ename": "KeyboardInterrupt",
     "evalue": "",
     "output_type": "error",
     "traceback": [
      "\u001b[0;31m---------------------------------------------------------------------------\u001b[0m",
      "\u001b[0;31mKeyboardInterrupt\u001b[0m                         Traceback (most recent call last)",
      "\u001b[0;32m/tmp/ipython-input-25-1342021474.py\u001b[0m in \u001b[0;36m<cell line: 0>\u001b[0;34m()\u001b[0m\n\u001b[0;32m----> 1\u001b[0;31m df_processed = process_dataframe_optimized(\n\u001b[0m\u001b[1;32m      2\u001b[0m     \u001b[0mdf_processed3\u001b[0m\u001b[0;34m,\u001b[0m\u001b[0;34m\u001b[0m\u001b[0;34m\u001b[0m\u001b[0m\n\u001b[1;32m      3\u001b[0m     \u001b[0manonymization_method\u001b[0m\u001b[0;34m=\u001b[0m\u001b[0;34m\"spacy\"\u001b[0m\u001b[0;34m,\u001b[0m\u001b[0;34m\u001b[0m\u001b[0;34m\u001b[0m\u001b[0m\n\u001b[1;32m      4\u001b[0m     \u001b[0mbatch_size\u001b[0m\u001b[0;34m=\u001b[0m\u001b[0;36m500\u001b[0m\u001b[0;34m,\u001b[0m\u001b[0;34m\u001b[0m\u001b[0;34m\u001b[0m\u001b[0m\n\u001b[1;32m      5\u001b[0m     \u001b[0mn_processes\u001b[0m\u001b[0;34m=\u001b[0m\u001b[0;36m4\u001b[0m\u001b[0;34m\u001b[0m\u001b[0;34m\u001b[0m\u001b[0m\n",
      "\u001b[0;32m/tmp/ipython-input-20-2220339928.py\u001b[0m in \u001b[0;36mprocess_dataframe_optimized\u001b[0;34m(df, anonymization_method, batch_size, n_processes)\u001b[0m\n\u001b[1;32m    116\u001b[0m     \u001b[0;32mif\u001b[0m \u001b[0mn_processes\u001b[0m \u001b[0;34m>\u001b[0m \u001b[0;36m1\u001b[0m\u001b[0;34m:\u001b[0m\u001b[0;34m\u001b[0m\u001b[0;34m\u001b[0m\u001b[0m\n\u001b[1;32m    117\u001b[0m         \u001b[0;32mwith\u001b[0m \u001b[0mPool\u001b[0m\u001b[0;34m(\u001b[0m\u001b[0mprocesses\u001b[0m\u001b[0;34m=\u001b[0m\u001b[0mn_processes\u001b[0m\u001b[0;34m)\u001b[0m \u001b[0;32mas\u001b[0m \u001b[0mpool\u001b[0m\u001b[0;34m:\u001b[0m\u001b[0;34m\u001b[0m\u001b[0;34m\u001b[0m\u001b[0m\n\u001b[0;32m--> 118\u001b[0;31m             \u001b[0mbatch_results\u001b[0m \u001b[0;34m=\u001b[0m \u001b[0mpool\u001b[0m\u001b[0;34m.\u001b[0m\u001b[0mmap\u001b[0m\u001b[0;34m(\u001b[0m\u001b[0mprocess_batch_multiprocess\u001b[0m\u001b[0;34m,\u001b[0m \u001b[0mbatches\u001b[0m\u001b[0;34m)\u001b[0m\u001b[0;34m\u001b[0m\u001b[0;34m\u001b[0m\u001b[0m\n\u001b[0m\u001b[1;32m    119\u001b[0m     \u001b[0;32melse\u001b[0m\u001b[0;34m:\u001b[0m\u001b[0;34m\u001b[0m\u001b[0;34m\u001b[0m\u001b[0m\n\u001b[1;32m    120\u001b[0m         \u001b[0;31m# Single process for debugging\u001b[0m\u001b[0;34m\u001b[0m\u001b[0;34m\u001b[0m\u001b[0m\n",
      "\u001b[0;32m/usr/lib/python3.11/multiprocessing/pool.py\u001b[0m in \u001b[0;36mmap\u001b[0;34m(self, func, iterable, chunksize)\u001b[0m\n\u001b[1;32m    365\u001b[0m         \u001b[0;32min\u001b[0m \u001b[0ma\u001b[0m \u001b[0mlist\u001b[0m \u001b[0mthat\u001b[0m \u001b[0;32mis\u001b[0m \u001b[0mreturned\u001b[0m\u001b[0;34m.\u001b[0m\u001b[0;34m\u001b[0m\u001b[0;34m\u001b[0m\u001b[0m\n\u001b[1;32m    366\u001b[0m         '''\n\u001b[0;32m--> 367\u001b[0;31m         \u001b[0;32mreturn\u001b[0m \u001b[0mself\u001b[0m\u001b[0;34m.\u001b[0m\u001b[0m_map_async\u001b[0m\u001b[0;34m(\u001b[0m\u001b[0mfunc\u001b[0m\u001b[0;34m,\u001b[0m \u001b[0miterable\u001b[0m\u001b[0;34m,\u001b[0m \u001b[0mmapstar\u001b[0m\u001b[0;34m,\u001b[0m \u001b[0mchunksize\u001b[0m\u001b[0;34m)\u001b[0m\u001b[0;34m.\u001b[0m\u001b[0mget\u001b[0m\u001b[0;34m(\u001b[0m\u001b[0;34m)\u001b[0m\u001b[0;34m\u001b[0m\u001b[0;34m\u001b[0m\u001b[0m\n\u001b[0m\u001b[1;32m    368\u001b[0m \u001b[0;34m\u001b[0m\u001b[0m\n\u001b[1;32m    369\u001b[0m     \u001b[0;32mdef\u001b[0m \u001b[0mstarmap\u001b[0m\u001b[0;34m(\u001b[0m\u001b[0mself\u001b[0m\u001b[0;34m,\u001b[0m \u001b[0mfunc\u001b[0m\u001b[0;34m,\u001b[0m \u001b[0miterable\u001b[0m\u001b[0;34m,\u001b[0m \u001b[0mchunksize\u001b[0m\u001b[0;34m=\u001b[0m\u001b[0;32mNone\u001b[0m\u001b[0;34m)\u001b[0m\u001b[0;34m:\u001b[0m\u001b[0;34m\u001b[0m\u001b[0;34m\u001b[0m\u001b[0m\n",
      "\u001b[0;32m/usr/lib/python3.11/multiprocessing/pool.py\u001b[0m in \u001b[0;36mget\u001b[0;34m(self, timeout)\u001b[0m\n\u001b[1;32m    766\u001b[0m \u001b[0;34m\u001b[0m\u001b[0m\n\u001b[1;32m    767\u001b[0m     \u001b[0;32mdef\u001b[0m \u001b[0mget\u001b[0m\u001b[0;34m(\u001b[0m\u001b[0mself\u001b[0m\u001b[0;34m,\u001b[0m \u001b[0mtimeout\u001b[0m\u001b[0;34m=\u001b[0m\u001b[0;32mNone\u001b[0m\u001b[0;34m)\u001b[0m\u001b[0;34m:\u001b[0m\u001b[0;34m\u001b[0m\u001b[0;34m\u001b[0m\u001b[0m\n\u001b[0;32m--> 768\u001b[0;31m         \u001b[0mself\u001b[0m\u001b[0;34m.\u001b[0m\u001b[0mwait\u001b[0m\u001b[0;34m(\u001b[0m\u001b[0mtimeout\u001b[0m\u001b[0;34m)\u001b[0m\u001b[0;34m\u001b[0m\u001b[0;34m\u001b[0m\u001b[0m\n\u001b[0m\u001b[1;32m    769\u001b[0m         \u001b[0;32mif\u001b[0m \u001b[0;32mnot\u001b[0m \u001b[0mself\u001b[0m\u001b[0;34m.\u001b[0m\u001b[0mready\u001b[0m\u001b[0;34m(\u001b[0m\u001b[0;34m)\u001b[0m\u001b[0;34m:\u001b[0m\u001b[0;34m\u001b[0m\u001b[0;34m\u001b[0m\u001b[0m\n\u001b[1;32m    770\u001b[0m             \u001b[0;32mraise\u001b[0m \u001b[0mTimeoutError\u001b[0m\u001b[0;34m\u001b[0m\u001b[0;34m\u001b[0m\u001b[0m\n",
      "\u001b[0;32m/usr/lib/python3.11/multiprocessing/pool.py\u001b[0m in \u001b[0;36mwait\u001b[0;34m(self, timeout)\u001b[0m\n\u001b[1;32m    763\u001b[0m \u001b[0;34m\u001b[0m\u001b[0m\n\u001b[1;32m    764\u001b[0m     \u001b[0;32mdef\u001b[0m \u001b[0mwait\u001b[0m\u001b[0;34m(\u001b[0m\u001b[0mself\u001b[0m\u001b[0;34m,\u001b[0m \u001b[0mtimeout\u001b[0m\u001b[0;34m=\u001b[0m\u001b[0;32mNone\u001b[0m\u001b[0;34m)\u001b[0m\u001b[0;34m:\u001b[0m\u001b[0;34m\u001b[0m\u001b[0;34m\u001b[0m\u001b[0m\n\u001b[0;32m--> 765\u001b[0;31m         \u001b[0mself\u001b[0m\u001b[0;34m.\u001b[0m\u001b[0m_event\u001b[0m\u001b[0;34m.\u001b[0m\u001b[0mwait\u001b[0m\u001b[0;34m(\u001b[0m\u001b[0mtimeout\u001b[0m\u001b[0;34m)\u001b[0m\u001b[0;34m\u001b[0m\u001b[0;34m\u001b[0m\u001b[0m\n\u001b[0m\u001b[1;32m    766\u001b[0m \u001b[0;34m\u001b[0m\u001b[0m\n\u001b[1;32m    767\u001b[0m     \u001b[0;32mdef\u001b[0m \u001b[0mget\u001b[0m\u001b[0;34m(\u001b[0m\u001b[0mself\u001b[0m\u001b[0;34m,\u001b[0m \u001b[0mtimeout\u001b[0m\u001b[0;34m=\u001b[0m\u001b[0;32mNone\u001b[0m\u001b[0;34m)\u001b[0m\u001b[0;34m:\u001b[0m\u001b[0;34m\u001b[0m\u001b[0;34m\u001b[0m\u001b[0m\n",
      "\u001b[0;32m/usr/lib/python3.11/threading.py\u001b[0m in \u001b[0;36mwait\u001b[0;34m(self, timeout)\u001b[0m\n\u001b[1;32m    627\u001b[0m             \u001b[0msignaled\u001b[0m \u001b[0;34m=\u001b[0m \u001b[0mself\u001b[0m\u001b[0;34m.\u001b[0m\u001b[0m_flag\u001b[0m\u001b[0;34m\u001b[0m\u001b[0;34m\u001b[0m\u001b[0m\n\u001b[1;32m    628\u001b[0m             \u001b[0;32mif\u001b[0m \u001b[0;32mnot\u001b[0m \u001b[0msignaled\u001b[0m\u001b[0;34m:\u001b[0m\u001b[0;34m\u001b[0m\u001b[0;34m\u001b[0m\u001b[0m\n\u001b[0;32m--> 629\u001b[0;31m                 \u001b[0msignaled\u001b[0m \u001b[0;34m=\u001b[0m \u001b[0mself\u001b[0m\u001b[0;34m.\u001b[0m\u001b[0m_cond\u001b[0m\u001b[0;34m.\u001b[0m\u001b[0mwait\u001b[0m\u001b[0;34m(\u001b[0m\u001b[0mtimeout\u001b[0m\u001b[0;34m)\u001b[0m\u001b[0;34m\u001b[0m\u001b[0;34m\u001b[0m\u001b[0m\n\u001b[0m\u001b[1;32m    630\u001b[0m             \u001b[0;32mreturn\u001b[0m \u001b[0msignaled\u001b[0m\u001b[0;34m\u001b[0m\u001b[0;34m\u001b[0m\u001b[0m\n\u001b[1;32m    631\u001b[0m \u001b[0;34m\u001b[0m\u001b[0m\n",
      "\u001b[0;32m/usr/lib/python3.11/threading.py\u001b[0m in \u001b[0;36mwait\u001b[0;34m(self, timeout)\u001b[0m\n\u001b[1;32m    325\u001b[0m         \u001b[0;32mtry\u001b[0m\u001b[0;34m:\u001b[0m    \u001b[0;31m# restore state no matter what (e.g., KeyboardInterrupt)\u001b[0m\u001b[0;34m\u001b[0m\u001b[0;34m\u001b[0m\u001b[0m\n\u001b[1;32m    326\u001b[0m             \u001b[0;32mif\u001b[0m \u001b[0mtimeout\u001b[0m \u001b[0;32mis\u001b[0m \u001b[0;32mNone\u001b[0m\u001b[0;34m:\u001b[0m\u001b[0;34m\u001b[0m\u001b[0;34m\u001b[0m\u001b[0m\n\u001b[0;32m--> 327\u001b[0;31m                 \u001b[0mwaiter\u001b[0m\u001b[0;34m.\u001b[0m\u001b[0macquire\u001b[0m\u001b[0;34m(\u001b[0m\u001b[0;34m)\u001b[0m\u001b[0;34m\u001b[0m\u001b[0;34m\u001b[0m\u001b[0m\n\u001b[0m\u001b[1;32m    328\u001b[0m                 \u001b[0mgotit\u001b[0m \u001b[0;34m=\u001b[0m \u001b[0;32mTrue\u001b[0m\u001b[0;34m\u001b[0m\u001b[0;34m\u001b[0m\u001b[0m\n\u001b[1;32m    329\u001b[0m             \u001b[0;32melse\u001b[0m\u001b[0;34m:\u001b[0m\u001b[0;34m\u001b[0m\u001b[0;34m\u001b[0m\u001b[0m\n",
      "\u001b[0;31mKeyboardInterrupt\u001b[0m: "
     ]
    }
   ],
   "source": [
    "df_processed = process_dataframe_optimized(\n",
    "    df_processed3,\n",
    "    anonymization_method=\"spacy\",\n",
    "    batch_size=500,\n",
    "    n_processes=4\n",
    ")\n"
   ]
  }
 ],
 "metadata": {
  "colab": {
   "authorship_tag": "ABX9TyMCt1eCMRpD5lAg0aYVGkVD",
   "provenance": []
  },
  "kernelspec": {
   "display_name": "Python 3 (ipykernel)",
   "language": "python",
   "name": "python3"
  },
  "language_info": {
   "codemirror_mode": {
    "name": "ipython",
    "version": 3
   },
   "file_extension": ".py",
   "mimetype": "text/x-python",
   "name": "python",
   "nbconvert_exporter": "python",
   "pygments_lexer": "ipython3",
   "version": "3.11.13"
  }
 },
 "nbformat": 4,
 "nbformat_minor": 4
}
