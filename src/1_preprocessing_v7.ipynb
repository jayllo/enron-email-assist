{
 "cells": [
  {
   "cell_type": "code",
   "execution_count": 1,
   "metadata": {
    "colab": {
     "base_uri": "https://localhost:8080/"
    },
    "executionInfo": {
     "elapsed": 15175,
     "status": "ok",
     "timestamp": 1752983006964,
     "user": {
      "displayName": "Shang Min (Anna) Yi",
      "userId": "06669389745700277658"
     },
     "user_tz": 360
    },
    "id": "JgyDRVtPYVSl",
    "outputId": "33d539ca-a335-4d4a-c0d3-58d3d40d5ca0"
   },
   "outputs": [
    {
     "ename": "ModuleNotFoundError",
     "evalue": "No module named 'google'",
     "output_type": "error",
     "traceback": [
      "\u001b[31m---------------------------------------------------------------------------\u001b[39m",
      "\u001b[31mModuleNotFoundError\u001b[39m                       Traceback (most recent call last)",
      "\u001b[36mCell\u001b[39m\u001b[36m \u001b[39m\u001b[32mIn[1]\u001b[39m\u001b[32m, line 1\u001b[39m\n\u001b[32m----> \u001b[39m\u001b[32m1\u001b[39m \u001b[38;5;28;01mfrom\u001b[39;00m\u001b[38;5;250m \u001b[39m\u001b[34;01mgoogle\u001b[39;00m\u001b[34;01m.\u001b[39;00m\u001b[34;01mcolab\u001b[39;00m\u001b[38;5;250m \u001b[39m\u001b[38;5;28;01mimport\u001b[39;00m drive\n\u001b[32m      2\u001b[39m drive.mount(\u001b[33m'\u001b[39m\u001b[33m/content/drive\u001b[39m\u001b[33m'\u001b[39m, force_remount=\u001b[38;5;28;01mTrue\u001b[39;00m)\n",
      "\u001b[31mModuleNotFoundError\u001b[39m: No module named 'google'"
     ]
    }
   ],
   "source": [
    "from google.colab import drive\n",
    "drive.mount('/content/drive', force_remount=True)"
   ]
  },
  {
   "cell_type": "code",
   "execution_count": null,
   "metadata": {
    "colab": {
     "base_uri": "https://localhost:8080/"
    },
    "executionInfo": {
     "elapsed": 472,
     "status": "ok",
     "timestamp": 1752983014182,
     "user": {
      "displayName": "Shang Min (Anna) Yi",
      "userId": "06669389745700277658"
     },
     "user_tz": 360
    },
    "id": "HLwFvphNbP7G",
    "outputId": "8d2c94bd-5520-413f-d77c-92365a2f2d3a"
   },
   "outputs": [],
   "source": [
    "cd drive/MyDrive/IE7374_Group14/colab/"
   ]
  },
  {
   "cell_type": "code",
   "execution_count": null,
   "metadata": {
    "executionInfo": {
     "elapsed": 10734,
     "status": "ok",
     "timestamp": 1752983027610,
     "user": {
      "displayName": "Shang Min (Anna) Yi",
      "userId": "06669389745700277658"
     },
     "user_tz": 360
    },
    "id": "2jm9qZPibVkY"
   },
   "outputs": [],
   "source": [
    "import pandas as pd\n",
    "import numpy as np\n",
    "\n",
    "import os\n",
    "import re\n",
    "import random\n",
    "from multiprocessing import Pool\n",
    "\n",
    "import email\n",
    "from email import policy\n",
    "from email.policy import default\n",
    "\n",
    "from email.parser import BytesParser\n",
    "from email import message_from_string\n",
    "\n",
    "import spacy\n"
   ]
  },
  {
   "cell_type": "markdown",
   "metadata": {
    "id": "wATbQ0HAoDjc"
   },
   "source": [
    "# 1. Load Dataset"
   ]
  },
  {
   "cell_type": "code",
   "execution_count": null,
   "metadata": {
    "executionInfo": {
     "elapsed": 27402,
     "status": "ok",
     "timestamp": 1752983057904,
     "user": {
      "displayName": "Shang Min (Anna) Yi",
      "userId": "06669389745700277658"
     },
     "user_tz": 360
    },
    "id": "pEeVUQ-Ebc8g"
   },
   "outputs": [],
   "source": [
    "df = pd.read_csv('../data/sample_raw_dataset.csv')"
   ]
  },
  {
   "cell_type": "code",
   "execution_count": null,
   "metadata": {
    "colab": {
     "base_uri": "https://localhost:8080/"
    },
    "executionInfo": {
     "elapsed": 94,
     "status": "ok",
     "timestamp": 1752983057995,
     "user": {
      "displayName": "Shang Min (Anna) Yi",
      "userId": "06669389745700277658"
     },
     "user_tz": 360
    },
    "id": "Sr1UTfEfbhSw",
    "outputId": "bc5cffd8-405b-45aa-a194-5eee414c4d96"
   },
   "outputs": [],
   "source": [
    "df.info()"
   ]
  },
  {
   "cell_type": "code",
   "execution_count": null,
   "metadata": {
    "colab": {
     "base_uri": "https://localhost:8080/"
    },
    "executionInfo": {
     "elapsed": 785,
     "status": "ok",
     "timestamp": 1752983058782,
     "user": {
      "displayName": "Shang Min (Anna) Yi",
      "userId": "06669389745700277658"
     },
     "user_tz": 360
    },
    "id": "qn2GLBnQblZe",
    "outputId": "9bb75136-e0bd-4cfb-c4d0-7e5d146148c5"
   },
   "outputs": [],
   "source": [
    "duplicates = df[df.duplicated(subset='message', keep=False)]\n",
    "print(f\"Number of duplicate messages: {duplicates.shape[0]}\")"
   ]
  },
  {
   "cell_type": "code",
   "execution_count": null,
   "metadata": {
    "colab": {
     "base_uri": "https://localhost:8080/",
     "height": 143
    },
    "executionInfo": {
     "elapsed": 6,
     "status": "ok",
     "timestamp": 1752983058787,
     "user": {
      "displayName": "Shang Min (Anna) Yi",
      "userId": "06669389745700277658"
     },
     "user_tz": 360
    },
    "id": "bDBR5y3fmUne",
    "outputId": "b1477e23-e744-4477-83db-dd6a51b45ba7"
   },
   "outputs": [],
   "source": [
    "df.head(3)"
   ]
  },
  {
   "cell_type": "markdown",
   "metadata": {
    "id": "jARmtH3imS-f"
   },
   "source": [
    "# 2. Split Message-ID"
   ]
  },
  {
   "cell_type": "code",
   "execution_count": null,
   "metadata": {
    "executionInfo": {
     "elapsed": 20,
     "status": "ok",
     "timestamp": 1752983064220,
     "user": {
      "displayName": "Shang Min (Anna) Yi",
      "userId": "06669389745700277658"
     },
     "user_tz": 360
    },
    "id": "5dhFHtHmmvcd"
   },
   "outputs": [],
   "source": [
    "df_split1 = df.copy()"
   ]
  },
  {
   "cell_type": "code",
   "execution_count": null,
   "metadata": {
    "executionInfo": {
     "elapsed": 31,
     "status": "ok",
     "timestamp": 1752983064811,
     "user": {
      "displayName": "Shang Min (Anna) Yi",
      "userId": "06669389745700277658"
     },
     "user_tz": 360
    },
    "id": "s5ZGC1q5fpxx"
   },
   "outputs": [],
   "source": [
    "def split_metadata_and_body(email_text):\n",
    "\n",
    "    pattern = r'(Message-ID:.*?X-FileName:.*?\\n)'\n",
    "    match = re.search(pattern, email_text, re.DOTALL | re.IGNORECASE)\n",
    "    if match:\n",
    "        metadata = match.group(1).strip()\n",
    "        body = email_text[match.end():].strip()\n",
    "    else:\n",
    "        metadata, body = '', email_text.strip()\n",
    "    return metadata, body\n"
   ]
  },
  {
   "cell_type": "code",
   "execution_count": null,
   "metadata": {
    "executionInfo": {
     "elapsed": 71445,
     "status": "ok",
     "timestamp": 1752983138683,
     "user": {
      "displayName": "Shang Min (Anna) Yi",
      "userId": "06669389745700277658"
     },
     "user_tz": 360
    },
    "id": "2PMolsRqgoS7"
   },
   "outputs": [],
   "source": [
    "df_split1[['metadata_block', 'message_body']] = df_split1['message'].apply(\n",
    "    lambda x: pd.Series(split_metadata_and_body(x))\n",
    ")\n"
   ]
  },
  {
   "cell_type": "code",
   "execution_count": null,
   "metadata": {
    "colab": {
     "base_uri": "https://localhost:8080/",
     "height": 143
    },
    "executionInfo": {
     "elapsed": 15,
     "status": "ok",
     "timestamp": 1752983138684,
     "user": {
      "displayName": "Shang Min (Anna) Yi",
      "userId": "06669389745700277658"
     },
     "user_tz": 360
    },
    "id": "ZntFNLRDm5j4",
    "outputId": "b1085dec-5ae8-43ae-fc28-c21bf2b74543"
   },
   "outputs": [],
   "source": [
    "df_split1.head(3)"
   ]
  },
  {
   "cell_type": "markdown",
   "metadata": {
    "id": "Ts6xEIUrmt5g"
   },
   "source": [
    "# 3. Clean Dataset"
   ]
  },
  {
   "cell_type": "code",
   "execution_count": null,
   "metadata": {
    "executionInfo": {
     "elapsed": 291,
     "status": "ok",
     "timestamp": 1752983138972,
     "user": {
      "displayName": "Shang Min (Anna) Yi",
      "userId": "06669389745700277658"
     },
     "user_tz": 360
    },
    "id": "_AFjKE4Cb7xG"
   },
   "outputs": [],
   "source": [
    "df_split1['message_length'] = df_split1['message_body'].apply(len)"
   ]
  },
  {
   "cell_type": "code",
   "execution_count": null,
   "metadata": {
    "colab": {
     "base_uri": "https://localhost:8080/"
    },
    "executionInfo": {
     "elapsed": 5,
     "status": "ok",
     "timestamp": 1752983138978,
     "user": {
      "displayName": "Shang Min (Anna) Yi",
      "userId": "06669389745700277658"
     },
     "user_tz": 360
    },
    "id": "E37QMVokb_GO",
    "outputId": "4bff8395-44e3-41ed-b157-79c9ba66ac3f"
   },
   "outputs": [],
   "source": [
    "# Calculate Q1 and Q3\n",
    "Q1 = df_split1['message_length'].quantile(0.25)\n",
    "Q3 = df_split1['message_length'].quantile(0.75)\n",
    "IQR = Q3 - Q1\n",
    "\n",
    "# Set boundaries (we can't have messages with len lower than 1)\n",
    "lower_bound = max(0, Q1 - 1.5 * IQR)\n",
    "upper_bound = Q3 + 1.5 * IQR\n",
    "\n",
    "print(f\"Lower Outlier Limit: {lower_bound}\")\n",
    "print(f\"Upper Outlier Limit: {upper_bound}\")\n"
   ]
  },
  {
   "cell_type": "code",
   "execution_count": null,
   "metadata": {
    "executionInfo": {
     "elapsed": 594,
     "status": "ok",
     "timestamp": 1752983139573,
     "user": {
      "displayName": "Shang Min (Anna) Yi",
      "userId": "06669389745700277658"
     },
     "user_tz": 360
    },
    "id": "-j8R9_pybuQ-"
   },
   "outputs": [],
   "source": [
    "df_clean2 = df_split1[df_split1['message_body'].str.len() < 3952].copy()"
   ]
  },
  {
   "cell_type": "code",
   "execution_count": null,
   "metadata": {
    "id": "N7ZfnPCZJBk9"
   },
   "outputs": [],
   "source": []
  },
  {
   "cell_type": "code",
   "execution_count": null,
   "metadata": {
    "colab": {
     "base_uri": "https://localhost:8080/"
    },
    "executionInfo": {
     "elapsed": 4,
     "status": "ok",
     "timestamp": 1752983139579,
     "user": {
      "displayName": "Shang Min (Anna) Yi",
      "userId": "06669389745700277658"
     },
     "user_tz": 360
    },
    "id": "GL5bHwXWcFGA",
    "outputId": "9a1ea3ce-f3ec-4280-e3e0-1a3e0d7222a0"
   },
   "outputs": [],
   "source": [
    "df_clean2.shape"
   ]
  },
  {
   "cell_type": "code",
   "execution_count": null,
   "metadata": {
    "colab": {
     "base_uri": "https://localhost:8080/",
     "height": 112
    },
    "executionInfo": {
     "elapsed": 38,
     "status": "ok",
     "timestamp": 1752983139618,
     "user": {
      "displayName": "Shang Min (Anna) Yi",
      "userId": "06669389745700277658"
     },
     "user_tz": 360
    },
    "id": "U-8ZL6DBfzex",
    "outputId": "7245eb11-6b46-4ce8-d3e6-401319f5fb4b"
   },
   "outputs": [],
   "source": [
    "df_clean2.head(2)"
   ]
  },
  {
   "cell_type": "code",
   "execution_count": null,
   "metadata": {
    "id": "EKQG3IhlsgV1"
   },
   "outputs": [],
   "source": []
  },
  {
   "cell_type": "markdown",
   "metadata": {
    "id": "YbHlBLv2lrxg"
   },
   "source": []
  },
  {
   "cell_type": "code",
   "execution_count": null,
   "metadata": {
    "executionInfo": {
     "elapsed": 71,
     "status": "ok",
     "timestamp": 1752983139662,
     "user": {
      "displayName": "Shang Min (Anna) Yi",
      "userId": "06669389745700277658"
     },
     "user_tz": 360
    },
    "id": "L181CEMhnyN0"
   },
   "outputs": [],
   "source": [
    "df_processed3 = df_clean2.copy()"
   ]
  },
  {
   "cell_type": "code",
   "execution_count": null,
   "metadata": {
    "id": "xrcY2fwPnoJy"
   },
   "outputs": [],
   "source": [
    "\n",
    "def get_text_payload(msg):\n",
    "    \"\"\"\n",
    "    Walks through a multipart email message and extracts the first text/plain payload.\n",
    "    This is the most reliable way to get the email body while ignoring attachments.\n",
    "    \"\"\"\n",
    "    if not msg.is_multipart():\n",
    "        if msg.get_content_type() == 'text/plain':\n",
    "            payload = msg.get_payload(decode=True)\n",
    "            charset = msg.get_content_charset() or 'ascii'\n",
    "            try:\n",
    "                return payload.decode(charset, errors='replace')\n",
    "            except (LookupError, TypeError):\n",
    "                return payload.decode('ascii', errors='replace')\n",
    "        else:\n",
    "            return \"\"\n",
    "\n",
    "    text_parts = []\n",
    "    for part in msg.walk():\n",
    "        payload = get_text_payload(part)\n",
    "        if payload:\n",
    "            text_parts.append(payload)\n",
    "\n",
    "    return \"\\n\".join(text_parts)\n",
    "\n",
    "def final_scrub_text(text):\n",
    "    \"\"\"\n",
    "    Performs a final, aggressive cleaning of the text to remove common email artifacts,\n",
    "    PII, and other noise. This is the key function to ensure high-quality output.\n",
    "    \"\"\"\n",
    "    # 1. Remove forwarded message headers that might have been missed\n",
    "    # This catches \"From:\", \"Sent:\", \"To:\", \"Subject:\" lines at the start of a block.\n",
    "    lines = text.split('\\n')\n",
    "    first_real_line_index = 0\n",
    "    for i, line in enumerate(lines):\n",
    "        if re.match(r'^\\s*(from|sent|to|cc|subject|date|forwarded):', line, re.IGNORECASE):\n",
    "            continue\n",
    "        # Stop at the first line that is not a header-like line.\n",
    "        if line.strip() not in ('', '>'):\n",
    "            first_real_line_index = i\n",
    "            break\n",
    "    text = '\\n'.join(lines[first_real_line_index:])\n",
    "\n",
    "    # 2. Remove legal disclaimers and confidentiality notices\n",
    "    # This targets common phrases found in corporate email footers.\n",
    "    disclaimer_patterns = [\n",
    "        r'\\*+\\s*original message\\s*\\*+',\n",
    "        r'this e-mail is the property of enron corp\\..*',\n",
    "        r'the information contained in this communication is intended only for the use of the designated recipients.*',\n",
    "        r'internet communications are not secure and therefore.*'\n",
    "    ]\n",
    "    for pattern in disclaimer_patterns:\n",
    "        text = re.sub(pattern, '', text, flags=re.IGNORECASE | re.DOTALL)\n",
    "\n",
    "    # 3. Anonymize Personal Information (PII)\n",
    "    # Email addresses\n",
    "    text = re.sub(r'\\b[\\w\\.\\-+=_%]+@[\\w\\.-]+\\.\\w{2,}\\b', '<ANON_EMAIL>', text)\n",
    "    # Phone/Fax numbers (various formats)\n",
    "    text = re.sub(r'(\\b(\\+?\\d{1,2}[-.\\s]?)?\\(?\\d{3}\\)?[-.\\s]?\\d{3}[-.\\s]?\\d{4}\\b)', '<ANON_PHONE>', text)\n",
    "    # Names (e.g., \"Doe, John\" or \"John Doe\")\n",
    "    text = re.sub(r'\\b[A-Z][a-z]+,\\s[A-Z][a-z]+\\b', '<ANON_NAME>', text)\n",
    "    text = re.sub(r'\\b[A-Z][a-z]+\\s[A-Z][a-z]+\\b', '<ANON_NAME>', text) # Catches simple Title Case names\n",
    "\n",
    "    # 4. Remove other common email artifacts\n",
    "    # URLs\n",
    "    text = re.sub(r'https?://\\S+|www\\.\\S+', '<ANON_URL>', text)\n",
    "    # Quoted reply lines (e.g., \"> blah blah blah\")\n",
    "    text = re.sub(r'^\\s*>\\s?.*$', '', text, flags=re.MULTILINE)\n",
    "    # MIME encoding artifacts (e.g., \"=20\", \"=0A\")\n",
    "    text = re.sub(r'=[0-9A-F]{2}', '', text)\n",
    "    # Horizontal lines/separators\n",
    "    text = re.sub(r'[-_*=]{3,}', '', text)\n",
    "\n",
    "    # 5. Final whitespace cleanup\n",
    "    # Remove excess blank lines\n",
    "    text = re.sub(r'\\n\\s*\\n', '\\n', text)\n",
    "    # Trim leading/trailing whitespace from the whole block\n",
    "    return text.strip()\n",
    "\n",
    "\n",
    "def format_and_split_thread(body_text):\n",
    "    \"\"\"\n",
    "    Splits an email thread, tags replies and the original message.\n",
    "    \"\"\"\n",
    "    blocks = re.split(r'-{5,}\\s*Original Message\\s*-{5,}', body_text, flags=re.IGNORECASE)\n",
    "\n",
    "    # Filter out any empty blocks that might result from the split\n",
    "    blocks = [block.strip() for block in blocks if block.strip()]\n",
    "\n",
    "    if not blocks:\n",
    "        return []\n",
    "\n",
    "    tagged_messages = []\n",
    "    num_blocks = len(blocks)\n",
    "    for i, block in enumerate(blocks):\n",
    "        # The first block is the newest message, the last is the oldest.\n",
    "        if i == num_blocks - 1:\n",
    "            tag = '<|original|>'\n",
    "        else:\n",
    "            tag = f'<|reply{num_blocks - 1 - i}|>'\n",
    "\n",
    "        # Apply the final, aggressive scrub to each individual message block\n",
    "        clean_text = final_scrub_text(block)\n",
    "\n",
    "        # Only add the message if it's not empty after cleaning\n",
    "        if clean_text:\n",
    "            tagged_messages.append({'tag': tag, 'text': clean_text})\n",
    "\n",
    "    return tagged_messages\n",
    "\n",
    "def process_email_row(row):\n",
    "    message_id = row['metadata_block'].split('\\n')[0]  # Or however you extract it\n",
    "    body_text = row['message_body']\n",
    "\n",
    "    threaded_messages = format_and_split_thread(body_text)\n",
    "\n",
    "    entries = []\n",
    "    for part in threaded_messages:\n",
    "        entries.append({\n",
    "            'message_id': message_id,\n",
    "            'tag': part['tag'],\n",
    "            'clean_message': part['text']\n",
    "        })\n",
    "\n",
    "    return entries\n",
    "\n"
   ]
  },
  {
   "cell_type": "code",
   "execution_count": null,
   "metadata": {
    "id": "9zXHIHcdnuvG"
   },
   "outputs": [],
   "source": [
    "\n",
    "if __name__ == '__main__':\n",
    "\n",
    "    with Pool() as pool:\n",
    "        results = pool.map(process_email_row, df_processed3.to_dict('records'))\n",
    "\n",
    "    # Flatten list of lists\n",
    "    cleaned = [item for sublist in results for item in sublist]\n",
    "    df_processed3 = pd.DataFrame(cleaned)\n",
    "\n",
    "    # Save or inspect\n",
    "    # df_processed3.to_csv('enron_cleaned_v7.csv', index=False)\n",
    "    # print(df_processed3.head())\n"
   ]
  },
  {
   "cell_type": "code",
   "execution_count": null,
   "metadata": {
    "id": "0oEJoWzM3acM"
   },
   "outputs": [],
   "source": [
    "df_processed3.head()"
   ]
  },
  {
   "cell_type": "markdown",
   "metadata": {
    "id": "Dx7Vk08y3S3S"
   },
   "source": [
    "# Anon"
   ]
  },
  {
   "cell_type": "code",
   "execution_count": null,
   "metadata": {
    "id": "bgRLisUmrbyb"
   },
   "outputs": [],
   "source": [
    "\n",
    "\n",
    "# Load the small English model\n",
    "nlp = spacy.load(\"en_core_web_sm\")\n",
    "\n",
    "def anonymize_names(text):\n",
    "    doc = nlp(text)\n",
    "    anonymized_tokens = []\n",
    "    for token in doc:\n",
    "        if token.ent_type_ == \"PERSON\":\n",
    "            anonymized_tokens.append(\"[NAME]\")\n",
    "        else:\n",
    "            anonymized_tokens.append(token.text)\n",
    "    return \" \".join(anonymized_tokens)\n"
   ]
  },
  {
   "cell_type": "code",
   "execution_count": null,
   "metadata": {
    "id": "m6sBVP5E27oY"
   },
   "outputs": [],
   "source": [
    "df_anon4 = df_processed3.copy()"
   ]
  },
  {
   "cell_type": "code",
   "execution_count": null,
   "metadata": {
    "id": "H8SdDB1C3KlI"
   },
   "outputs": [],
   "source": [
    "df_anon4['anon_message'] = df_anon4['clean_message'].apply(anonymize_names)\n"
   ]
  },
  {
   "cell_type": "code",
   "execution_count": null,
   "metadata": {
    "id": "wjku_k3L7C57"
   },
   "outputs": [],
   "source": [
    "df_anon4.head()"
   ]
  },
  {
   "cell_type": "code",
   "execution_count": null,
   "metadata": {
    "id": "BWOHPK0qV2oI"
   },
   "outputs": [],
   "source": [
    "df_ready = df_anon4.copy()"
   ]
  },
  {
   "cell_type": "code",
   "execution_count": null,
   "metadata": {
    "id": "41KyI-V6VwUi"
   },
   "outputs": [],
   "source": [
    "from sklearn.model_selection import train_test_split\n",
    "\n",
    "# Step 1: Shuffle and split into train and temp (val + test)\n",
    "train_df, temp_df = train_test_split(df_ready, test_size=0.2, random_state=42)\n",
    "\n",
    "# Step 2: Split temp into validation and test\n",
    "val_df, test_df = train_test_split(temp_df, test_size=0.5, random_state=42)\n",
    "\n",
    "print(f\"Train size: {len(train_df)}\")\n",
    "print(f\"Validation size: {len(val_df)}\")\n",
    "print(f\"Test size: {len(test_df)}\")\n"
   ]
  },
  {
   "cell_type": "code",
   "execution_count": null,
   "metadata": {
    "id": "hsVaWZiSV7T4"
   },
   "outputs": [],
   "source": [
    "train_df.to_csv(\"v7_train.csv\", index=False)\n",
    "val_df.to_csv(\"v7_val.csv\", index=False)\n",
    "test_df.to_csv(\"v7_test.csv\", index=False)\n"
   ]
  }
 ],
 "metadata": {
  "colab": {
   "provenance": []
  },
  "kernelspec": {
   "display_name": "Python 3 (ipykernel)",
   "language": "python",
   "name": "python3"
  },
  "language_info": {
   "codemirror_mode": {
    "name": "ipython",
    "version": 3
   },
   "file_extension": ".py",
   "mimetype": "text/x-python",
   "name": "python",
   "nbconvert_exporter": "python",
   "pygments_lexer": "ipython3",
   "version": "3.11.13"
  }
 },
 "nbformat": 4,
 "nbformat_minor": 4
}
